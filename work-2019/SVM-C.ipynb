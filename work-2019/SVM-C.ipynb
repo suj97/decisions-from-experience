{
 "cells": [
  {
   "cell_type": "code",
   "execution_count": 1,
   "metadata": {},
   "outputs": [],
   "source": [
    "name=\"SVM-C\""
   ]
  },
  {
   "cell_type": "code",
   "execution_count": 2,
   "metadata": {},
   "outputs": [
    {
     "name": "stderr",
     "output_type": "stream",
     "text": [
      "Using TensorFlow backend.\n"
     ]
    }
   ],
   "source": [
    "from keras.preprocessing.sequence import pad_sequences\n",
    "from sklearn.metrics import accuracy_score\n",
    "import matplotlib.pyplot as plt\n",
    "# plt.style.use('ggplot')"
   ]
  },
  {
   "cell_type": "code",
   "execution_count": 3,
   "metadata": {},
   "outputs": [],
   "source": [
    "def create_dataset(data):\n",
    "    X_train, Y_train= list(), list()\n",
    "    final_choices = [x[-1]-1 for x in data]\n",
    "    features = [x[:-1] for x in data]\n",
    "    return features, final_choices"
   ]
  },
  {
   "cell_type": "code",
   "execution_count": 4,
   "metadata": {},
   "outputs": [],
   "source": [
    "def create_dataset_test(data):\n",
    "    X_test, Y_test= list(), list()\n",
    "    final_choices = [x[-1]-1 for x in data]\n",
    "    features = [x[:-1] for x in data]\n",
    "    return features, final_choices"
   ]
  },
  {
   "cell_type": "code",
   "execution_count": 5,
   "metadata": {},
   "outputs": [],
   "source": [
    "def normalise_outcomes(data):\n",
    "    maxi = max([max(x) for x in data])\n",
    "    mini = min([min(x) for x in data])\n",
    "    for i in range(len(data)):\n",
    "        for j in range(1,len(data[i]),2):\n",
    "            data[i][j] -= mini\n",
    "            data[i][j] /= (maxi-mini)"
   ]
  },
  {
   "cell_type": "code",
   "execution_count": 6,
   "metadata": {},
   "outputs": [],
   "source": [
    "def parse_dataset(name, flag):\n",
    "    infile = open(name, 'r')\n",
    "    lines = infile.readlines()\n",
    "    data = []\n",
    "    for line in lines:\n",
    "        data.append([float(x) for x in line.split(',')])\n",
    "    normalise_outcomes(data)\n",
    "    if(flag):\n",
    "        return create_dataset(data)\n",
    "    else:\n",
    "        return create_dataset_test(data)"
   ]
  },
  {
   "cell_type": "code",
   "execution_count": 7,
   "metadata": {},
   "outputs": [],
   "source": [
    "X_train, y_train = parse_dataset('../data/estimation_without_padding.csv', 1)\n",
    "X_test, y_test = parse_dataset('../data/competition_without_padding.csv', 0)"
   ]
  },
  {
   "cell_type": "code",
   "execution_count": 8,
   "metadata": {},
   "outputs": [
    {
     "data": {
      "text/plain": [
       "[1.0,\n",
       " 0.09444444444444447,\n",
       " 2.0,\n",
       " 0.0685185185185185,\n",
       " 1.0,\n",
       " 0.09444444444444447,\n",
       " 1.0,\n",
       " 0.09444444444444447,\n",
       " 1.0,\n",
       " 0.09444444444444447,\n",
       " 1.0,\n",
       " 0.09444444444444447,\n",
       " 1.0,\n",
       " 0.09444444444444447,\n",
       " 1.0,\n",
       " 0.09444444444444447]"
      ]
     },
     "execution_count": 8,
     "metadata": {},
     "output_type": "execute_result"
    }
   ],
   "source": [
    "X_train[0]\n",
    "X_test[0]"
   ]
  },
  {
   "cell_type": "code",
   "execution_count": 9,
   "metadata": {},
   "outputs": [],
   "source": [
    "maxlen = max(max([len(x) for x in X_train]), max([len(x) for x in X_test]))\n",
    "X_train = pad_sequences(X_train, padding='post', value=0, dtype=float, maxlen=maxlen)\n",
    "X_test = pad_sequences(X_test, padding='post', value=0, dtype=float, maxlen=maxlen)"
   ]
  },
  {
   "cell_type": "code",
   "execution_count": 10,
   "metadata": {},
   "outputs": [],
   "source": [
    "from sklearn.svm import SVC"
   ]
  },
  {
   "cell_type": "code",
   "execution_count": 11,
   "metadata": {},
   "outputs": [],
   "source": [
    "res = [] #stores results to plot"
   ]
  },
  {
   "cell_type": "code",
   "execution_count": 12,
   "metadata": {},
   "outputs": [
    {
     "name": "stdout",
     "output_type": "stream",
     "text": [
      "0.01 0.5534223706176962\n",
      "0.05 0.5517529215358932\n",
      "0.1 0.5742904841402338\n",
      "0.5 0.5659432387312187\n",
      "1 0.5726210350584308\n",
      "2 0.5684474123539232\n",
      "10 0.5651085141903172\n"
     ]
    }
   ],
   "source": [
    "for C in [0.01, 0.05, 0.1, 0.5, 1, 2, 10]:\n",
    "    clf = SVC(kernel='linear', C=C)\n",
    "    clf.fit(X_train, y_train)\n",
    "    \n",
    "    y_pred = clf.predict(X_test)\n",
    "    print(C, accuracy_score(y_test, y_pred))\n",
    "    res.append((C, accuracy_score(y_test, y_pred)))"
   ]
  },
  {
   "cell_type": "code",
   "execution_count": 13,
   "metadata": {},
   "outputs": [
    {
     "data": {
      "image/png": "[encoded data removed]",
      "text/plain": [
       "<Figure size 432x288 with 1 Axes>"
      ]
     },
     "metadata": {
      "needs_background": "light"
     },
     "output_type": "display_data"
    }
   ],
   "source": [
    "xs = [x[0] for x in res]\n",
    "ys = [x[1] for x in res]\n",
    "plt.plot(xs, ys, marker='o')\n",
    "plt.xlabel('C')\n",
    "plt.ylabel('Accuracy')\n",
    "plt.savefig('results/'+name, dpi=200)"
   ]
  },
  {
   "cell_type": "code",
   "execution_count": null,
   "metadata": {},
   "outputs": [],
   "source": []
  }
 ],
 "metadata": {
  "kernelspec": {
   "display_name": "Python 3",
   "language": "python",
   "name": "python3"
  },
  "language_info": {
   "codemirror_mode": {
    "name": "ipython",
    "version": 3
   },
   "file_extension": ".py",
   "mimetype": "text/x-python",
   "name": "python",
   "nbconvert_exporter": "python",
   "pygments_lexer": "ipython3",
   "version": "3.6.6"
  }
 },
 "nbformat": 4,
 "nbformat_minor": 2
}

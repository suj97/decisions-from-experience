{
 "cells": [
  {
   "cell_type": "code",
   "execution_count": 36,
   "metadata": {},
   "outputs": [],
   "source": [
    "import numpy as np\n",
    "import pandas as pd\n",
    "from sklearn.cross_validation import train_test_split\n",
    "from keras.models import Sequential\n",
    "from keras.layers import Dense, Input, Dropout, LSTM, GRU, SimpleRNN, Embedding, Conv1D, MaxPooling1D, Masking\n",
    "from keras import optimizers,regularizers\n",
    "from sklearn.preprocessing import MinMaxScaler\n",
    "from keras.preprocessing.sequence import pad_sequences\n",
    "import matplotlib.pyplot as plt"
   ]
  },
  {
   "cell_type": "code",
   "execution_count": 37,
   "metadata": {},
   "outputs": [],
   "source": [
    "def create_dataset(data, n_steps):\n",
    "    X_train, Y_train= list(), list()\n",
    "    final_choices = [x[-1] for x in data]\n",
    "    features = [x[:-1] for x in data]\n",
    "    # making training data \n",
    "    count = 0\n",
    "    for feat,f_choice in zip(features, final_choices):\n",
    "        if(len(feat)//2 < n_steps):\n",
    "            X_train.append(feat)\n",
    "            Y_train.append(f_choice)\n",
    "            count += 1\n",
    "        else:\n",
    "            for i in range(len(feat)//2-n_steps):\n",
    "                end_idx = 2*(i+n_steps)\n",
    "                X_train.append(feat[2*i:end_idx])\n",
    "                Y_train.append(feat[end_idx])\n",
    "            X_train.append(feat[(len(feat)-2*n_steps):len(feat)])\n",
    "            Y_train.append(f_choice)\n",
    "    print(count)\n",
    "    return X_train, Y_train"
   ]
  },
  {
   "cell_type": "code",
   "execution_count": 38,
   "metadata": {},
   "outputs": [],
   "source": [
    "def create_dataset_test(data, n_steps):\n",
    "    X_test, Y_test= list(), list()\n",
    "    final_choices = [x[-1] for x in data]\n",
    "    features = [x[:-1] for x in data]\n",
    "    # making training data \n",
    "    count = 0\n",
    "    for feat,f_choice in zip(features, final_choices):\n",
    "        if(len(feat)//2 < n_steps):\n",
    "            X_test.append(feat)\n",
    "            Y_test.append(f_choice)\n",
    "            count += 1\n",
    "        else:\n",
    "            X_test.append(feat[(len(feat)-2*n_steps):len(feat)])\n",
    "            Y_test.append(f_choice)\n",
    "    print(count)\n",
    "    return X_test, Y_test"
   ]
  },
  {
   "cell_type": "code",
   "execution_count": 39,
   "metadata": {},
   "outputs": [],
   "source": [
    "def normalise_outcomes(data):\n",
    "    maxi = max([max(x) for x in data])\n",
    "    mini = min([min(x) for x in data])\n",
    "    for i in range(len(data)):\n",
    "        for j in range(1,len(data[i]),2):\n",
    "            data[i][j] -= mini\n",
    "            data[i][j] /= (maxi-mini)"
   ]
  },
  {
   "cell_type": "code",
   "execution_count": 40,
   "metadata": {},
   "outputs": [],
   "source": [
    "def parse_dataset(name, n_steps, flag):\n",
    "    infile = open(name, 'r')\n",
    "    lines = infile.readlines()\n",
    "    data = []\n",
    "    for line in lines:\n",
    "        data.append([float(x) for x in line.split(',')])\n",
    "#     normalise_outcomes(data)\n",
    "    if(flag):\n",
    "        return create_dataset(data, n_steps)\n",
    "    else:\n",
    "        return create_dataset_test(data, n_steps)"
   ]
  },
  {
   "cell_type": "code",
   "execution_count": 41,
   "metadata": {},
   "outputs": [
    {
     "name": "stdout",
     "output_type": "stream",
     "text": [
      "615\n",
      "517\n"
     ]
    }
   ],
   "source": [
    "n_steps=10\n",
    "X_train, y_train = parse_dataset('data/estimation_without_padding.csv',n_steps, 1)\n",
    "X_test, y_test = parse_dataset('data/competition_without_padding.csv',n_steps, 0)"
   ]
  },
  {
   "cell_type": "code",
   "execution_count": 42,
   "metadata": {},
   "outputs": [
    {
     "data": {
      "text/plain": [
       "20"
      ]
     },
     "execution_count": 42,
     "metadata": {},
     "output_type": "execute_result"
    }
   ],
   "source": [
    "y_train = np.array(y_train)\n",
    "y_test = np.array(y_test)\n",
    "# y_train -= 1\n",
    "# y_test -= 1\n",
    "\n",
    "maxlen = max(max([len(x) for x in X_train]), max([len(x) for x in X_test]))\n",
    "X_train = pad_sequences(X_train, padding='pre', value=0, dtype=float, maxlen=maxlen)\n",
    "X_test = pad_sequences(X_test, padding='pre', value=0, dtype=float, maxlen=maxlen)\n",
    "maxlen\n"
   ]
  },
  {
   "cell_type": "code",
   "execution_count": 43,
   "metadata": {},
   "outputs": [
    {
     "data": {
      "text/plain": [
       "array([ 0. ,  0. ,  0. ,  0. ,  0. ,  0. ,  0. ,  0. ,  0. ,  0. ,  0. ,\n",
       "        0. ,  0. ,  0. ,  1. , -0.3,  2. , -0.3,  1. , -0.3])"
      ]
     },
     "execution_count": 43,
     "metadata": {},
     "output_type": "execute_result"
    }
   ],
   "source": [
    "X_train[0]"
   ]
  },
  {
   "cell_type": "code",
   "execution_count": 44,
   "metadata": {},
   "outputs": [
    {
     "data": {
      "text/plain": [
       "array([[ 0. ,  0. ],\n",
       "       [ 0. ,  0. ],\n",
       "       [ 0. ,  0. ],\n",
       "       [ 0. ,  0. ],\n",
       "       [ 0. ,  0. ],\n",
       "       [ 0. ,  0. ],\n",
       "       [ 0. ,  0. ],\n",
       "       [ 1. , -0.3],\n",
       "       [ 2. , -0.3],\n",
       "       [ 1. , -0.3]])"
      ]
     },
     "execution_count": 44,
     "metadata": {},
     "output_type": "execute_result"
    }
   ],
   "source": [
    "X_train = np.reshape(X_train, (X_train.shape[0], n_steps, 2))\n",
    "X_test = np.reshape(X_test, (X_test.shape[0], n_steps, 2))\n",
    "X_train[0]"
   ]
  },
  {
   "cell_type": "code",
   "execution_count": 45,
   "metadata": {},
   "outputs": [],
   "source": [
    "model = Sequential()\n",
    "model.add(Masking(mask_value=-100.0, input_shape=(None, 2)))\n",
    "model.add(LSTM(10, return_sequences=False, activation='relu', input_shape=(None, X_train.shape[2])))\n",
    "# model.add(Dropout(0.3))\n",
    "model.add(Dense(3, activation='softmax'))"
   ]
  },
  {
   "cell_type": "code",
   "execution_count": 46,
   "metadata": {
    "scrolled": true
   },
   "outputs": [
    {
     "name": "stdout",
     "output_type": "stream",
     "text": [
      "_________________________________________________________________\n",
      "Layer (type)                 Output Shape              Param #   \n",
      "=================================================================\n",
      "masking_3 (Masking)          (None, None, 2)           0         \n",
      "_________________________________________________________________\n",
      "lstm_3 (LSTM)                (None, 10)                520       \n",
      "_________________________________________________________________\n",
      "dense_3 (Dense)              (None, 3)                 33        \n",
      "=================================================================\n",
      "Total params: 553\n",
      "Trainable params: 553\n",
      "Non-trainable params: 0\n",
      "_________________________________________________________________\n"
     ]
    },
    {
     "data": {
      "text/plain": [
       "((6116, 10, 2), (1198, 10, 2))"
      ]
     },
     "execution_count": 46,
     "metadata": {},
     "output_type": "execute_result"
    }
   ],
   "source": [
    "model.compile(loss='sparse_categorical_crossentropy', optimizer='adam', metrics=['accuracy'])\n",
    "model.summary()\n",
    "X_train.shape, X_test.shape"
   ]
  },
  {
   "cell_type": "code",
   "execution_count": 47,
   "metadata": {
    "scrolled": true
   },
   "outputs": [
    {
     "name": "stdout",
     "output_type": "stream",
     "text": [
      "Train on 6116 samples, validate on 1198 samples\n",
      "Epoch 1/100\n",
      "6116/6116 [==============================] - 7s 1ms/step - loss: 0.9898 - acc: 0.5885 - val_loss: 0.7490 - val_acc: 0.4925\n",
      "Epoch 2/100\n",
      "6116/6116 [==============================] - 5s 868us/step - loss: 0.6272 - acc: 0.6512 - val_loss: 0.7270 - val_acc: 0.5317\n",
      "Epoch 3/100\n",
      "6116/6116 [==============================] - 5s 865us/step - loss: 0.5872 - acc: 0.6916 - val_loss: 0.7116 - val_acc: 0.5651\n",
      "Epoch 4/100\n",
      "6116/6116 [==============================] - 6s 914us/step - loss: 0.5490 - acc: 0.7224 - val_loss: 0.7285 - val_acc: 0.5860\n",
      "Epoch 5/100\n",
      "6116/6116 [==============================] - 6s 957us/step - loss: 0.5271 - acc: 0.7529 - val_loss: 0.7473 - val_acc: 0.5701\n",
      "Epoch 6/100\n",
      "6116/6116 [==============================] - 6s 986us/step - loss: 0.5145 - acc: 0.7639 - val_loss: 0.7468 - val_acc: 0.5835\n",
      "Epoch 7/100\n",
      "6116/6116 [==============================] - 6s 941us/step - loss: 0.5081 - acc: 0.7659 - val_loss: 0.7464 - val_acc: 0.5776\n",
      "Epoch 8/100\n",
      "6116/6116 [==============================] - 6s 918us/step - loss: 0.4997 - acc: 0.7767 - val_loss: 0.7797 - val_acc: 0.5668\n",
      "Epoch 9/100\n",
      "6116/6116 [==============================] - 6s 944us/step - loss: 0.4966 - acc: 0.7830 - val_loss: 0.7703 - val_acc: 0.5751\n",
      "Epoch 10/100\n",
      "6116/6116 [==============================] - 6s 968us/step - loss: 0.4913 - acc: 0.7840 - val_loss: 0.7717 - val_acc: 0.5701\n",
      "Epoch 11/100\n",
      "6116/6116 [==============================] - 6s 923us/step - loss: 0.4889 - acc: 0.7925 - val_loss: 0.7907 - val_acc: 0.5568\n",
      "Epoch 12/100\n",
      "6116/6116 [==============================] - 6s 924us/step - loss: 0.4862 - acc: 0.7951 - val_loss: 0.8049 - val_acc: 0.5601\n",
      "Epoch 13/100\n",
      "6116/6116 [==============================] - 6s 937us/step - loss: 0.4814 - acc: 0.7964 - val_loss: 0.7677 - val_acc: 0.5843\n",
      "Epoch 14/100\n",
      "6116/6116 [==============================] - 6s 933us/step - loss: 0.4803 - acc: 0.8020 - val_loss: 0.8072 - val_acc: 0.5634\n",
      "Epoch 15/100\n",
      "6116/6116 [==============================] - 6s 924us/step - loss: 0.4761 - acc: 0.8048 - val_loss: 0.7761 - val_acc: 0.5659\n",
      "Epoch 16/100\n",
      "6116/6116 [==============================] - 6s 926us/step - loss: 0.4747 - acc: 0.8041 - val_loss: 0.7951 - val_acc: 0.5634\n",
      "Epoch 17/100\n",
      "6116/6116 [==============================] - 6s 946us/step - loss: 0.4748 - acc: 0.8035 - val_loss: 0.8082 - val_acc: 0.5593\n",
      "Epoch 18/100\n",
      "6116/6116 [==============================] - 6s 930us/step - loss: 0.4729 - acc: 0.8097 - val_loss: 0.8035 - val_acc: 0.5726\n",
      "Epoch 19/100\n",
      "6116/6116 [==============================] - 6s 935us/step - loss: 0.4717 - acc: 0.8084 - val_loss: 0.8154 - val_acc: 0.5634\n",
      "Epoch 20/100\n",
      "6116/6116 [==============================] - 6s 937us/step - loss: 0.4685 - acc: 0.8103 - val_loss: 0.8281 - val_acc: 0.5776\n",
      "Epoch 21/100\n",
      "6116/6116 [==============================] - 6s 938us/step - loss: 0.4675 - acc: 0.8126 - val_loss: 0.8383 - val_acc: 0.5601\n",
      "Epoch 22/100\n",
      "6116/6116 [==============================] - 6s 933us/step - loss: 0.4671 - acc: 0.8131 - val_loss: 0.8032 - val_acc: 0.5726\n",
      "Epoch 23/100\n",
      "6116/6116 [==============================] - 6s 935us/step - loss: 0.4680 - acc: 0.8094 - val_loss: 0.8107 - val_acc: 0.5601\n",
      "Epoch 24/100\n",
      "6116/6116 [==============================] - 7s 1ms/step - loss: 0.4667 - acc: 0.8090 - val_loss: 0.7933 - val_acc: 0.5743\n",
      "Epoch 25/100\n",
      "6116/6116 [==============================] - 7s 1ms/step - loss: 0.4674 - acc: 0.8098 - val_loss: 0.7968 - val_acc: 0.5684\n",
      "Epoch 26/100\n",
      "6116/6116 [==============================] - 6s 1ms/step - loss: 0.4647 - acc: 0.8116 - val_loss: 0.8135 - val_acc: 0.5659\n",
      "Epoch 27/100\n",
      "6116/6116 [==============================] - 6s 1ms/step - loss: 0.4658 - acc: 0.8103 - val_loss: 0.8038 - val_acc: 0.5726\n",
      "Epoch 28/100\n",
      "6116/6116 [==============================] - 7s 1ms/step - loss: 0.4642 - acc: 0.8115 - val_loss: 0.8114 - val_acc: 0.5626\n",
      "Epoch 29/100\n",
      "6116/6116 [==============================] - 6s 1ms/step - loss: 0.4641 - acc: 0.8133 - val_loss: 0.8378 - val_acc: 0.5659\n",
      "Epoch 30/100\n",
      "6116/6116 [==============================] - 7s 1ms/step - loss: 0.4636 - acc: 0.8125 - val_loss: 0.7941 - val_acc: 0.5860\n",
      "Epoch 31/100\n",
      "6116/6116 [==============================] - 7s 1ms/step - loss: 0.4636 - acc: 0.8116 - val_loss: 0.8532 - val_acc: 0.5618\n",
      "Epoch 32/100\n",
      "6116/6116 [==============================] - 7s 1ms/step - loss: 0.4616 - acc: 0.8138 - val_loss: 0.8309 - val_acc: 0.5601\n",
      "Epoch 33/100\n",
      "6116/6116 [==============================] - 7s 1ms/step - loss: 0.4630 - acc: 0.8136 - val_loss: 0.8034 - val_acc: 0.5726\n",
      "Epoch 34/100\n",
      "6116/6116 [==============================] - 6s 1ms/step - loss: 0.4625 - acc: 0.8094 - val_loss: 0.8230 - val_acc: 0.5601\n",
      "Epoch 35/100\n",
      "6116/6116 [==============================] - 7s 1ms/step - loss: 0.4600 - acc: 0.8126 - val_loss: 0.8621 - val_acc: 0.5568\n",
      "Epoch 36/100\n",
      "6116/6116 [==============================] - 6s 1ms/step - loss: 0.4617 - acc: 0.8129 - val_loss: 0.8016 - val_acc: 0.5718\n",
      "Epoch 37/100\n",
      "6116/6116 [==============================] - 6s 998us/step - loss: 0.4594 - acc: 0.8134 - val_loss: 0.7953 - val_acc: 0.5701\n",
      "Epoch 38/100\n",
      "6116/6116 [==============================] - 6s 1ms/step - loss: 0.4612 - acc: 0.8121 - val_loss: 0.8133 - val_acc: 0.5618\n",
      "Epoch 39/100\n",
      "6116/6116 [==============================] - 6s 977us/step - loss: 0.4585 - acc: 0.8110 - val_loss: 0.8380 - val_acc: 0.5735\n",
      "Epoch 40/100\n",
      "6116/6116 [==============================] - 6s 988us/step - loss: 0.4570 - acc: 0.8136 - val_loss: 0.8202 - val_acc: 0.5651\n",
      "Epoch 41/100\n",
      "6116/6116 [==============================] - 6s 1ms/step - loss: 0.4570 - acc: 0.8123 - val_loss: 0.8288 - val_acc: 0.5710\n",
      "Epoch 42/100\n",
      "6116/6116 [==============================] - 6s 995us/step - loss: 0.4585 - acc: 0.8152 - val_loss: 0.8358 - val_acc: 0.5668\n",
      "Epoch 43/100\n",
      "6116/6116 [==============================] - 6s 985us/step - loss: 0.4560 - acc: 0.8198 - val_loss: 0.8487 - val_acc: 0.5609\n",
      "Epoch 44/100\n",
      "6116/6116 [==============================] - 6s 989us/step - loss: 0.4555 - acc: 0.8167 - val_loss: 0.8243 - val_acc: 0.5718\n",
      "Epoch 45/100\n",
      "6116/6116 [==============================] - 6s 990us/step - loss: 0.4535 - acc: 0.8198 - val_loss: 0.8292 - val_acc: 0.5718\n",
      "Epoch 46/100\n",
      "6116/6116 [==============================] - 6s 996us/step - loss: 0.4511 - acc: 0.8201 - val_loss: 0.8390 - val_acc: 0.5651\n",
      "Epoch 47/100\n",
      "6116/6116 [==============================] - 6s 1ms/step - loss: 0.4535 - acc: 0.8190 - val_loss: 0.8298 - val_acc: 0.5710\n",
      "Epoch 48/100\n",
      "6116/6116 [==============================] - 7s 1ms/step - loss: 0.4540 - acc: 0.8185 - val_loss: 0.8273 - val_acc: 0.5718\n",
      "Epoch 49/100\n",
      "6116/6116 [==============================] - 7s 1ms/step - loss: 0.4520 - acc: 0.8201 - val_loss: 0.8087 - val_acc: 0.5676\n",
      "Epoch 50/100\n",
      "6116/6116 [==============================] - 7s 1ms/step - loss: 0.4513 - acc: 0.8177 - val_loss: 0.8374 - val_acc: 0.5668\n",
      "Epoch 51/100\n",
      "6116/6116 [==============================] - 6s 1ms/step - loss: 0.4530 - acc: 0.8201 - val_loss: 0.8128 - val_acc: 0.5701\n",
      "Epoch 52/100\n",
      "6116/6116 [==============================] - 5s 818us/step - loss: 0.4514 - acc: 0.8185 - val_loss: 0.8262 - val_acc: 0.5651\n",
      "Epoch 53/100\n",
      "6116/6116 [==============================] - 5s 877us/step - loss: 0.4499 - acc: 0.8188 - val_loss: 0.8327 - val_acc: 0.5684\n",
      "Epoch 54/100\n",
      "6116/6116 [==============================] - 5s 835us/step - loss: 0.4500 - acc: 0.8215 - val_loss: 0.8199 - val_acc: 0.5743\n",
      "Epoch 55/100\n",
      "6116/6116 [==============================] - 5s 797us/step - loss: 0.4508 - acc: 0.8215 - val_loss: 0.8196 - val_acc: 0.5701\n",
      "Epoch 56/100\n",
      "6116/6116 [==============================] - 5s 864us/step - loss: 0.4495 - acc: 0.8197 - val_loss: 0.8228 - val_acc: 0.5659\n",
      "Epoch 57/100\n",
      "6116/6116 [==============================] - 6s 933us/step - loss: 0.4483 - acc: 0.8215 - val_loss: 0.8275 - val_acc: 0.5693\n",
      "Epoch 58/100\n",
      "6116/6116 [==============================] - 6s 1ms/step - loss: 0.4477 - acc: 0.8206 - val_loss: 0.8158 - val_acc: 0.5718\n",
      "Epoch 59/100\n",
      "6116/6116 [==============================] - 8s 1ms/step - loss: 0.4499 - acc: 0.8187 - val_loss: 0.8356 - val_acc: 0.5668\n",
      "Epoch 60/100\n"
     ]
    },
    {
     "name": "stdout",
     "output_type": "stream",
     "text": [
      "6116/6116 [==============================] - 8s 1ms/step - loss: 0.4498 - acc: 0.8172 - val_loss: 0.8203 - val_acc: 0.5726\n",
      "Epoch 61/100\n",
      "6116/6116 [==============================] - 7s 1ms/step - loss: 0.4465 - acc: 0.8197 - val_loss: 0.8236 - val_acc: 0.5718\n",
      "Epoch 62/100\n",
      "6116/6116 [==============================] - 5s 848us/step - loss: 0.4483 - acc: 0.8203 - val_loss: 0.8234 - val_acc: 0.5626\n",
      "Epoch 63/100\n",
      "6116/6116 [==============================] - 5s 848us/step - loss: 0.4469 - acc: 0.8228 - val_loss: 0.8277 - val_acc: 0.5693\n",
      "Epoch 64/100\n",
      "6116/6116 [==============================] - 5s 853us/step - loss: 0.4485 - acc: 0.8223 - val_loss: 0.8074 - val_acc: 0.5768\n",
      "Epoch 65/100\n",
      "6116/6116 [==============================] - 6s 963us/step - loss: 0.4441 - acc: 0.8228 - val_loss: 0.8102 - val_acc: 0.5743\n",
      "Epoch 66/100\n",
      "6116/6116 [==============================] - 7s 1ms/step - loss: 0.4451 - acc: 0.8242 - val_loss: 0.8640 - val_acc: 0.5618\n",
      "Epoch 67/100\n",
      "6116/6116 [==============================] - 6s 1ms/step - loss: 0.4467 - acc: 0.8241 - val_loss: 0.8389 - val_acc: 0.5684\n",
      "Epoch 68/100\n",
      "6116/6116 [==============================] - 7s 1ms/step - loss: 0.4449 - acc: 0.8213 - val_loss: 0.8321 - val_acc: 0.5701\n",
      "Epoch 69/100\n",
      "6116/6116 [==============================] - 6s 972us/step - loss: 0.4448 - acc: 0.8221 - val_loss: 0.7961 - val_acc: 0.5785\n",
      "Epoch 70/100\n",
      "6116/6116 [==============================] - 6s 932us/step - loss: 0.4460 - acc: 0.8216 - val_loss: 0.8668 - val_acc: 0.5693\n",
      "Epoch 71/100\n",
      "6116/6116 [==============================] - 6s 935us/step - loss: 0.4455 - acc: 0.8234 - val_loss: 0.7980 - val_acc: 0.5735\n",
      "Epoch 72/100\n",
      "6116/6116 [==============================] - 6s 935us/step - loss: 0.4456 - acc: 0.8219 - val_loss: 0.8323 - val_acc: 0.5684\n",
      "Epoch 73/100\n",
      "6116/6116 [==============================] - 6s 935us/step - loss: 0.4454 - acc: 0.8203 - val_loss: 0.8648 - val_acc: 0.5618\n",
      "Epoch 74/100\n",
      "6116/6116 [==============================] - 6s 942us/step - loss: 0.4450 - acc: 0.8216 - val_loss: 0.8306 - val_acc: 0.5676\n",
      "Epoch 75/100\n",
      "6116/6116 [==============================] - 6s 943us/step - loss: 0.4466 - acc: 0.8210 - val_loss: 0.8058 - val_acc: 0.5735\n",
      "Epoch 76/100\n",
      "6116/6116 [==============================] - 6s 945us/step - loss: 0.4441 - acc: 0.8221 - val_loss: 0.8374 - val_acc: 0.5626\n",
      "Epoch 77/100\n",
      "6116/6116 [==============================] - 6s 956us/step - loss: 0.4442 - acc: 0.8224 - val_loss: 0.8396 - val_acc: 0.5676\n",
      "Epoch 78/100\n",
      "6116/6116 [==============================] - 6s 988us/step - loss: 0.4429 - acc: 0.8249 - val_loss: 0.8446 - val_acc: 0.5651\n",
      "Epoch 79/100\n",
      "6116/6116 [==============================] - 6s 979us/step - loss: 0.4421 - acc: 0.8242 - val_loss: 0.8466 - val_acc: 0.5676\n",
      "Epoch 80/100\n",
      "6116/6116 [==============================] - 6s 959us/step - loss: 0.4415 - acc: 0.8252 - val_loss: 0.8466 - val_acc: 0.5659\n",
      "Epoch 81/100\n",
      "6116/6116 [==============================] - 6s 1ms/step - loss: 0.4395 - acc: 0.8231 - val_loss: 0.8370 - val_acc: 0.5718\n",
      "Epoch 82/100\n",
      "6116/6116 [==============================] - 6s 1ms/step - loss: 0.4419 - acc: 0.8234 - val_loss: 0.8508 - val_acc: 0.5618\n",
      "Epoch 83/100\n",
      "6116/6116 [==============================] - 6s 959us/step - loss: 0.4406 - acc: 0.8254 - val_loss: 0.8423 - val_acc: 0.5676\n",
      "Epoch 84/100\n",
      "6116/6116 [==============================] - 6s 954us/step - loss: 0.4412 - acc: 0.8228 - val_loss: 0.8383 - val_acc: 0.5668\n",
      "Epoch 85/100\n",
      "6116/6116 [==============================] - 6s 962us/step - loss: 0.4404 - acc: 0.8215 - val_loss: 0.8521 - val_acc: 0.5726\n",
      "Epoch 86/100\n",
      "6116/6116 [==============================] - 6s 960us/step - loss: 0.4410 - acc: 0.8221 - val_loss: 0.8287 - val_acc: 0.5768\n",
      "Epoch 87/100\n",
      "6116/6116 [==============================] - 6s 985us/step - loss: 0.4388 - acc: 0.8215 - val_loss: 0.8475 - val_acc: 0.5693\n",
      "Epoch 88/100\n",
      "6116/6116 [==============================] - 6s 979us/step - loss: 0.4401 - acc: 0.8218 - val_loss: 0.8422 - val_acc: 0.5710\n",
      "Epoch 89/100\n",
      "6116/6116 [==============================] - 6s 1ms/step - loss: 0.4400 - acc: 0.8236 - val_loss: 0.8128 - val_acc: 0.5751\n",
      "Epoch 90/100\n",
      "6116/6116 [==============================] - 6s 981us/step - loss: 0.4393 - acc: 0.8224 - val_loss: 0.8162 - val_acc: 0.5643\n",
      "Epoch 91/100\n",
      "6116/6116 [==============================] - 6s 992us/step - loss: 0.4402 - acc: 0.8247 - val_loss: 0.8213 - val_acc: 0.5693\n",
      "Epoch 92/100\n",
      "6116/6116 [==============================] - 6s 968us/step - loss: 0.4387 - acc: 0.8234 - val_loss: 0.8755 - val_acc: 0.5609\n",
      "Epoch 93/100\n",
      "6116/6116 [==============================] - 6s 970us/step - loss: 0.4386 - acc: 0.8231 - val_loss: 0.8157 - val_acc: 0.5693\n",
      "Epoch 94/100\n",
      "6116/6116 [==============================] - 6s 968us/step - loss: 0.4399 - acc: 0.8242 - val_loss: 0.8211 - val_acc: 0.5718\n",
      "Epoch 95/100\n",
      "6116/6116 [==============================] - 6s 972us/step - loss: 0.4381 - acc: 0.8241 - val_loss: 0.8433 - val_acc: 0.5668\n",
      "Epoch 96/100\n",
      "6116/6116 [==============================] - 6s 979us/step - loss: 0.4377 - acc: 0.8224 - val_loss: 0.8340 - val_acc: 0.5684\n",
      "Epoch 97/100\n",
      "6116/6116 [==============================] - 6s 972us/step - loss: 0.4381 - acc: 0.8255 - val_loss: 0.8410 - val_acc: 0.5659\n",
      "Epoch 98/100\n",
      "6116/6116 [==============================] - 6s 973us/step - loss: 0.4379 - acc: 0.8239 - val_loss: 0.8306 - val_acc: 0.5693\n",
      "Epoch 99/100\n",
      "6116/6116 [==============================] - 6s 1ms/step - loss: 0.4390 - acc: 0.8223 - val_loss: 0.8454 - val_acc: 0.5676\n",
      "Epoch 100/100\n",
      "6116/6116 [==============================] - 6s 989us/step - loss: 0.4369 - acc: 0.8236 - val_loss: 0.8206 - val_acc: 0.5684\n"
     ]
    }
   ],
   "source": [
    "history = model.fit(X_train, y_train, validation_data=(X_test, y_test), epochs=100, batch_size=20)"
   ]
  },
  {
   "cell_type": "code",
   "execution_count": 48,
   "metadata": {},
   "outputs": [
    {
     "name": "stdout",
     "output_type": "stream",
     "text": [
      "Accuracy: 56.84%\n"
     ]
    }
   ],
   "source": [
    "scores = model.evaluate(X_test, y_test, verbose=0)\n",
    "print(\"Accuracy: %.2f%%\" % (scores[1]*100))"
   ]
  },
  {
   "cell_type": "code",
   "execution_count": 49,
   "metadata": {},
   "outputs": [
    {
     "name": "stdout",
     "output_type": "stream",
     "text": [
      "dict_keys(['val_loss', 'val_acc', 'loss', 'acc'])\n"
     ]
    },
    {
     "data": {
      "image/png": "[encoded data removed]",
      "text/plain": [
       "<Figure size 432x288 with 1 Axes>"
      ]
     },
     "metadata": {
      "needs_background": "light"
     },
     "output_type": "display_data"
    },
    {
     "data": {
      "image/png": "[encoded data removed]",
      "text/plain": [
       "<Figure size 432x288 with 1 Axes>"
      ]
     },
     "metadata": {
      "needs_background": "light"
     },
     "output_type": "display_data"
    }
   ],
   "source": [
    "# list all data in history\n",
    "print(history.history.keys())\n",
    "# summarize history for accuracy\n",
    "plt.plot(history.history['acc'])\n",
    "plt.plot(history.history['val_acc'])\n",
    "plt.title('model accuracy')\n",
    "plt.ylabel('accuracy')\n",
    "plt.xlabel('epoch')\n",
    "plt.legend(['train', 'test'], loc='upper left')\n",
    "plt.show()\n",
    "# summarize history for loss\n",
    "plt.plot(history.history['loss'])\n",
    "plt.plot(history.history['val_loss'])\n",
    "plt.title('model loss')\n",
    "plt.ylabel('loss')\n",
    "plt.xlabel('epoch')\n",
    "plt.legend(['train', 'test'], loc='upper left')\n",
    "plt.show()"
   ]
  },
  {
   "cell_type": "code",
   "execution_count": 15,
   "metadata": {},
   "outputs": [],
   "source": [
    "%%script false\n",
    "1, 59.02\n",
    "2, 52.25\n",
    "3, 53.01\n",
    "5, 56.59\n",
    "10, 57.60\n",
    "20, 54.84"
   ]
  },
  {
   "cell_type": "code",
   "execution_count": 16,
   "metadata": {
    "scrolled": true
   },
   "outputs": [
    {
     "data": {
      "text/plain": [
       "[<matplotlib.lines.Line2D at 0x1a24ad4400>]"
      ]
     },
     "execution_count": 16,
     "metadata": {},
     "output_type": "execute_result"
    },
    {
     "data": {
      "image/png": "[encoded data removed]",
      "text/plain": [
       "<Figure size 432x288 with 1 Axes>"
      ]
     },
     "metadata": {
      "needs_background": "light"
     },
     "output_type": "display_data"
    }
   ],
   "source": [
    "x=[1,2,3,5,10,20]\n",
    "y=[59.02, 52.25, 53.01, 56.59, 57.60, 54.84]\n",
    "plt.plot(x,y, '--bo')"
   ]
  },
  {
   "cell_type": "code",
   "execution_count": null,
   "metadata": {},
   "outputs": [],
   "source": []
  }
 ],
 "metadata": {
  "kernelspec": {
   "display_name": "Python 3",
   "language": "python",
   "name": "python3"
  },
  "language_info": {
   "codemirror_mode": {
    "name": "ipython",
    "version": 3
   },
   "file_extension": ".py",
   "mimetype": "text/x-python",
   "name": "python",
   "nbconvert_exporter": "python",
   "pygments_lexer": "ipython3",
   "version": "3.6.6"
  }
 },
 "nbformat": 4,
 "nbformat_minor": 2
}

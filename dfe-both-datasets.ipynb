{
 "cells": [
  {
   "cell_type": "code",
   "execution_count": 1,
   "metadata": {},
   "outputs": [
    {
     "name": "stderr",
     "output_type": "stream",
     "text": [
      "/m/home/home0/04/khandas1/data/Desktop/mtp/decisions-from-experience/env/local/lib/python2.7/site-packages/sklearn/cross_validation.py:41: DeprecationWarning: This module was deprecated in version 0.18 in favor of the model_selection module into which all the refactored classes and functions are moved. Also note that the interface of the new CV iterators are different from that of this module. This module will be removed in 0.20.\n",
      "  \"This module will be removed in 0.20.\", DeprecationWarning)\n",
      "Using TensorFlow backend.\n"
     ]
    }
   ],
   "source": [
    "import numpy as np\n",
    "import pandas as pd\n",
    "from sklearn.cross_validation import train_test_split\n",
    "from keras.models import Sequential\n",
    "from keras.layers import Dense, Input, Dropout, LSTM, GRU, SimpleRNN, Embedding, Conv1D, MaxPooling1D\n",
    "from keras import optimizers,regularizers\n",
    "from sklearn.preprocessing import MinMaxScaler\n",
    "from keras.preprocessing.sequence import pad_sequences\n",
    "import matplotlib.pyplot as plt"
   ]
  },
  {
   "cell_type": "code",
   "execution_count": 2,
   "metadata": {},
   "outputs": [],
   "source": [
    "def create_dataset(data, n_steps):\n",
    "    X_train, Y_train= list(), list()\n",
    "    final_choices = [x[-1] for x in data]\n",
    "    features = [x[:-1] for x in data]\n",
    "    # making training data \n",
    "    count = 0\n",
    "    for feat,f_choice in zip(features, final_choices):\n",
    "        if(len(feat)//2 <= n_steps):\n",
    "            X_train.append(feat)\n",
    "            Y_train.append(f_choice)\n",
    "            count += 1\n",
    "        else:\n",
    "            for i in range(len(feat)//2-n_steps):\n",
    "                end_idx = 2*(i+n_steps)\n",
    "                X_train.append(feat[2*i:end_idx])\n",
    "                Y_train.append(feat[end_idx])\n",
    "            X_train.append(feat[(len(feat)-2*n_steps):len(feat)])\n",
    "            Y_train.append(f_choice)\n",
    "    print(count)\n",
    "    return X_train, Y_train"
   ]
  },
  {
   "cell_type": "code",
   "execution_count": 3,
   "metadata": {},
   "outputs": [],
   "source": [
    "def create_dataset_test(data, n_steps):\n",
    "    X_test, Y_test= list(), list()\n",
    "    final_choices = [x[-1] for x in data]\n",
    "    features = [x[:-1] for x in data]\n",
    "    # making training data \n",
    "    count = 0\n",
    "    for feat,f_choice in zip(features, final_choices):\n",
    "        if(len(feat)//2 <= n_steps):\n",
    "            X_test.append(feat)\n",
    "            Y_test.append(f_choice)\n",
    "            count += 1\n",
    "        else:\n",
    "            X_test.append(feat[(len(feat)-2*n_steps):len(feat)])\n",
    "            Y_test.append(f_choice)\n",
    "    print(count)\n",
    "    return X_test, Y_test"
   ]
  },
  {
   "cell_type": "code",
   "execution_count": 11,
   "metadata": {},
   "outputs": [],
   "source": [
    "def normalise_outcomes(data):\n",
    "    maxi = max([max(x) for x in data])\n",
    "    mini = min([min(x) for x in data])\n",
    "    for i in range(len(data)):\n",
    "        for j in range(1,len(data[i]),2):\n",
    "            data[i][j] -= mini\n",
    "            data[i][j] /= (maxi-mini)"
   ]
  },
  {
   "cell_type": "code",
   "execution_count": 12,
   "metadata": {},
   "outputs": [],
   "source": [
    "def parse_dataset(name, n_steps, flag):\n",
    "    infile = open(name, 'r')\n",
    "    lines = infile.readlines()\n",
    "    data = []\n",
    "    for line in lines:\n",
    "        data.append([float(x) for x in line.split(',')])\n",
    "#     normalise_outcomes(data)\n",
    "    if(flag):\n",
    "        return create_dataset(data, n_steps)\n",
    "    else:\n",
    "        return create_dataset_test(data, n_steps)"
   ]
  },
  {
   "cell_type": "code",
   "execution_count": 13,
   "metadata": {},
   "outputs": [
    {
     "name": "stdout",
     "output_type": "stream",
     "text": [
      "1008\n",
      "921\n"
     ]
    }
   ],
   "source": [
    "n_steps=20\n",
    "X_train, y_train = parse_dataset('data/estimation_without_padding.csv',n_steps, 1)\n",
    "X_test, y_test = parse_dataset('data/competition_without_padding.csv',n_steps, 0)"
   ]
  },
  {
   "cell_type": "code",
   "execution_count": 14,
   "metadata": {},
   "outputs": [],
   "source": [
    "y_train = np.array(y_train)\n",
    "y_test = np.array(y_test)\n",
    "y_train -= 1\n",
    "y_test -= 1\n",
    "\n",
    "X_train = pad_sequences(X_train, padding='post', value=-100, dtype=float)\n",
    "X_test = pad_sequences(X_test, padding='post', value=-100, dtype=float)"
   ]
  },
  {
   "cell_type": "code",
   "execution_count": 15,
   "metadata": {},
   "outputs": [
    {
     "data": {
      "text/plain": [
       "array([   1. ,  -21.4,    2. ,  -22.8,    1. ,  -21.4,    1. ,  -21.4,\n",
       "          1. ,  -21.4,    1. ,  -21.4,    1. ,  -21.4,    1. ,  -21.4,\n",
       "       -100. , -100. , -100. , -100. , -100. , -100. , -100. , -100. ,\n",
       "       -100. , -100. , -100. , -100. , -100. , -100. , -100. , -100. ,\n",
       "       -100. , -100. , -100. , -100. , -100. , -100. , -100. , -100. ])"
      ]
     },
     "execution_count": 15,
     "metadata": {},
     "output_type": "execute_result"
    }
   ],
   "source": [
    "X_test[0]"
   ]
  },
  {
   "cell_type": "code",
   "execution_count": 16,
   "metadata": {},
   "outputs": [],
   "source": [
    "X_train = np.reshape(X_train, (X_train.shape[0], n_steps, 2))\n",
    "X_test = np.reshape(X_test, (X_test.shape[0], n_steps, 2))"
   ]
  },
  {
   "cell_type": "code",
   "execution_count": 10,
   "metadata": {},
   "outputs": [],
   "source": [
    "model = Sequential()\n",
    "model.add(LSTM(10, return_sequences=False, activation='relu', input_shape=(None, X_train.shape[2])))\n",
    "# model.add(Dropout(0.3))\n",
    "model.add(Dense(1, activation='sigmoid'))"
   ]
  },
  {
   "cell_type": "code",
   "execution_count": 11,
   "metadata": {
    "scrolled": true
   },
   "outputs": [
    {
     "name": "stdout",
     "output_type": "stream",
     "text": [
      "_________________________________________________________________\n",
      "Layer (type)                 Output Shape              Param #   \n",
      "=================================================================\n",
      "lstm_1 (LSTM)                (None, 10)                520       \n",
      "_________________________________________________________________\n",
      "dense_1 (Dense)              (None, 1)                 11        \n",
      "=================================================================\n",
      "Total params: 531\n",
      "Trainable params: 531\n",
      "Non-trainable params: 0\n",
      "_________________________________________________________________\n"
     ]
    },
    {
     "data": {
      "text/plain": [
       "((2836, 20, 2), (1198, 20, 2))"
      ]
     },
     "execution_count": 11,
     "metadata": {},
     "output_type": "execute_result"
    }
   ],
   "source": [
    "model.compile(loss='binary_crossentropy', optimizer='adam', metrics=['accuracy'])\n",
    "model.summary()\n",
    "X_train.shape, X_test.shape"
   ]
  },
  {
   "cell_type": "code",
   "execution_count": 12,
   "metadata": {
    "scrolled": true
   },
   "outputs": [
    {
     "name": "stdout",
     "output_type": "stream",
     "text": [
      "Train on 2836 samples, validate on 1198 samples\n",
      "Epoch 1/50\n",
      "2836/2836 [==============================] - 5s 2ms/step - loss: 0.7734 - acc: 0.6121 - val_loss: 0.7267 - val_acc: 0.5551\n",
      "Epoch 2/50\n",
      "2836/2836 [==============================] - 3s 1ms/step - loss: 0.6552 - acc: 0.6283 - val_loss: 0.7190 - val_acc: 0.5384\n",
      "Epoch 3/50\n",
      "2836/2836 [==============================] - 4s 1ms/step - loss: 0.6367 - acc: 0.6231 - val_loss: 0.7054 - val_acc: 0.5376\n",
      "Epoch 4/50\n",
      "2836/2836 [==============================] - 5s 2ms/step - loss: 0.6189 - acc: 0.6312 - val_loss: 0.7153 - val_acc: 0.5342\n",
      "Epoch 5/50\n",
      "2836/2836 [==============================] - 4s 2ms/step - loss: 0.6129 - acc: 0.6453 - val_loss: 0.7112 - val_acc: 0.5326\n",
      "Epoch 6/50\n",
      "2836/2836 [==============================] - 5s 2ms/step - loss: 0.5988 - acc: 0.6492 - val_loss: 0.7187 - val_acc: 0.5292\n",
      "Epoch 7/50\n",
      "2836/2836 [==============================] - 4s 2ms/step - loss: 0.5898 - acc: 0.6622 - val_loss: 0.7116 - val_acc: 0.5401\n",
      "Epoch 8/50\n",
      "2836/2836 [==============================] - 4s 2ms/step - loss: 0.5823 - acc: 0.6597 - val_loss: 0.7176 - val_acc: 0.5392\n",
      "Epoch 9/50\n",
      "2836/2836 [==============================] - 4s 2ms/step - loss: 0.5804 - acc: 0.6576 - val_loss: 0.7164 - val_acc: 0.5442\n",
      "Epoch 10/50\n",
      "2836/2836 [==============================] - 4s 2ms/step - loss: 0.5712 - acc: 0.6671 - val_loss: 0.7195 - val_acc: 0.5367\n",
      "Epoch 11/50\n",
      "2836/2836 [==============================] - 4s 2ms/step - loss: 0.5662 - acc: 0.6770 - val_loss: 0.7236 - val_acc: 0.5426\n",
      "Epoch 12/50\n",
      "2836/2836 [==============================] - 4s 2ms/step - loss: 0.5615 - acc: 0.6767 - val_loss: 0.7194 - val_acc: 0.5367\n",
      "Epoch 13/50\n",
      "2836/2836 [==============================] - 4s 2ms/step - loss: 0.5655 - acc: 0.6774 - val_loss: 0.7010 - val_acc: 0.5367\n",
      "Epoch 14/50\n",
      "2836/2836 [==============================] - 4s 2ms/step - loss: 0.5628 - acc: 0.6851 - val_loss: 0.7049 - val_acc: 0.5409\n",
      "Epoch 15/50\n",
      "2836/2836 [==============================] - 5s 2ms/step - loss: 0.5537 - acc: 0.6989 - val_loss: 0.7022 - val_acc: 0.5409\n",
      "Epoch 16/50\n",
      "2836/2836 [==============================] - 4s 2ms/step - loss: 0.5487 - acc: 0.7031 - val_loss: 0.7216 - val_acc: 0.5593\n",
      "Epoch 17/50\n",
      "2836/2836 [==============================] - 5s 2ms/step - loss: 0.5461 - acc: 0.7024 - val_loss: 0.7074 - val_acc: 0.5626\n",
      "Epoch 18/50\n",
      "2836/2836 [==============================] - 4s 2ms/step - loss: 0.5467 - acc: 0.7098 - val_loss: 0.6997 - val_acc: 0.5710\n",
      "Epoch 19/50\n",
      "2836/2836 [==============================] - 4s 1ms/step - loss: 0.5395 - acc: 0.7151 - val_loss: 0.7038 - val_acc: 0.5693\n",
      "Epoch 20/50\n",
      "2836/2836 [==============================] - 4s 2ms/step - loss: 0.5365 - acc: 0.7165 - val_loss: 0.7077 - val_acc: 0.5668\n",
      "Epoch 21/50\n",
      "2836/2836 [==============================] - 4s 2ms/step - loss: 0.5332 - acc: 0.7267 - val_loss: 0.6956 - val_acc: 0.5851\n",
      "Epoch 22/50\n",
      "2836/2836 [==============================] - 4s 2ms/step - loss: 0.5298 - acc: 0.7299 - val_loss: 0.6995 - val_acc: 0.5835\n",
      "Epoch 23/50\n",
      "2836/2836 [==============================] - 4s 2ms/step - loss: 0.5291 - acc: 0.7320 - val_loss: 0.7126 - val_acc: 0.5751\n",
      "Epoch 24/50\n",
      "2836/2836 [==============================] - 4s 2ms/step - loss: 0.5265 - acc: 0.7373 - val_loss: 0.7221 - val_acc: 0.5851\n",
      "Epoch 25/50\n",
      "2836/2836 [==============================] - 4s 1ms/step - loss: 0.5247 - acc: 0.7359 - val_loss: 0.7322 - val_acc: 0.5726\n",
      "Epoch 26/50\n",
      "2836/2836 [==============================] - 4s 2ms/step - loss: 0.5195 - acc: 0.7433 - val_loss: 0.7196 - val_acc: 0.5693\n",
      "Epoch 27/50\n",
      "2836/2836 [==============================] - 4s 2ms/step - loss: 0.5231 - acc: 0.7429 - val_loss: 0.7062 - val_acc: 0.5801\n",
      "Epoch 28/50\n",
      "2836/2836 [==============================] - 4s 2ms/step - loss: 0.5261 - acc: 0.7387 - val_loss: 0.7080 - val_acc: 0.5910\n",
      "Epoch 29/50\n",
      "2836/2836 [==============================] - 4s 2ms/step - loss: 0.5131 - acc: 0.7528 - val_loss: 0.7266 - val_acc: 0.5810\n",
      "Epoch 30/50\n",
      "2836/2836 [==============================] - 5s 2ms/step - loss: 0.5121 - acc: 0.7437 - val_loss: 0.7137 - val_acc: 0.5684\n",
      "Epoch 31/50\n",
      "2836/2836 [==============================] - 4s 2ms/step - loss: 0.5109 - acc: 0.7539 - val_loss: 0.7135 - val_acc: 0.5818\n",
      "Epoch 32/50\n",
      "2836/2836 [==============================] - 4s 2ms/step - loss: 0.5089 - acc: 0.7482 - val_loss: 0.7080 - val_acc: 0.5893\n",
      "Epoch 33/50\n",
      "2836/2836 [==============================] - 4s 2ms/step - loss: 0.5047 - acc: 0.7595 - val_loss: 0.7237 - val_acc: 0.5735\n",
      "Epoch 34/50\n",
      "2836/2836 [==============================] - 4s 2ms/step - loss: 0.5947 - acc: 0.7433 - val_loss: 0.9940 - val_acc: 0.5442\n",
      "Epoch 35/50\n",
      "2836/2836 [==============================] - 5s 2ms/step - loss: 0.8495 - acc: 0.6523 - val_loss: 0.8312 - val_acc: 0.5467\n",
      "Epoch 36/50\n",
      "2836/2836 [==============================] - 5s 2ms/step - loss: 0.7046 - acc: 0.6590 - val_loss: 0.8049 - val_acc: 0.5417\n",
      "Epoch 37/50\n",
      "2836/2836 [==============================] - 5s 2ms/step - loss: 0.6316 - acc: 0.6788 - val_loss: 0.7864 - val_acc: 0.5342\n",
      "Epoch 38/50\n",
      "2836/2836 [==============================] - 4s 2ms/step - loss: 0.6198 - acc: 0.6939 - val_loss: 0.7385 - val_acc: 0.5534\n",
      "Epoch 39/50\n",
      "2836/2836 [==============================] - 4s 2ms/step - loss: 0.6017 - acc: 0.7010 - val_loss: 0.7305 - val_acc: 0.5518\n",
      "Epoch 40/50\n",
      "2836/2836 [==============================] - 4s 2ms/step - loss: 0.6079 - acc: 0.7098 - val_loss: 0.7334 - val_acc: 0.5618\n",
      "Epoch 41/50\n",
      "2836/2836 [==============================] - 4s 2ms/step - loss: 0.5752 - acc: 0.7151 - val_loss: 0.7355 - val_acc: 0.5618\n",
      "Epoch 42/50\n",
      "2836/2836 [==============================] - 5s 2ms/step - loss: 0.5634 - acc: 0.7154 - val_loss: 0.7248 - val_acc: 0.5643\n",
      "Epoch 43/50\n",
      "2836/2836 [==============================] - 4s 2ms/step - loss: 0.5555 - acc: 0.7183 - val_loss: 0.7269 - val_acc: 0.5693\n",
      "Epoch 44/50\n",
      "2836/2836 [==============================] - 5s 2ms/step - loss: 0.5518 - acc: 0.7236 - val_loss: 0.7233 - val_acc: 0.5676\n",
      "Epoch 45/50\n",
      "2836/2836 [==============================] - 5s 2ms/step - loss: 0.5479 - acc: 0.7285 - val_loss: 0.7325 - val_acc: 0.5618\n",
      "Epoch 46/50\n",
      "2836/2836 [==============================] - 4s 1ms/step - loss: 0.5438 - acc: 0.7267 - val_loss: 0.7221 - val_acc: 0.5659\n",
      "Epoch 47/50\n",
      "2836/2836 [==============================] - 4s 2ms/step - loss: 0.5405 - acc: 0.7292 - val_loss: 0.7497 - val_acc: 0.5576\n",
      "Epoch 48/50\n",
      "2836/2836 [==============================] - 4s 2ms/step - loss: 0.5401 - acc: 0.7317 - val_loss: 0.7246 - val_acc: 0.5701\n",
      "Epoch 49/50\n",
      "2836/2836 [==============================] - 4s 2ms/step - loss: 0.5456 - acc: 0.7341 - val_loss: 0.7247 - val_acc: 0.5785\n",
      "Epoch 50/50\n",
      "2836/2836 [==============================] - 4s 2ms/step - loss: 0.5389 - acc: 0.7310 - val_loss: 0.7203 - val_acc: 0.5735\n"
     ]
    },
    {
     "data": {
      "text/plain": [
       "<keras.callbacks.History at 0x7efd4d8b0f10>"
      ]
     },
     "execution_count": 12,
     "metadata": {},
     "output_type": "execute_result"
    }
   ],
   "source": [
    "model.fit(X_train, y_train, validation_data=(X_test, y_test), epochs=50, batch_size=20)"
   ]
  },
  {
   "cell_type": "code",
   "execution_count": 13,
   "metadata": {},
   "outputs": [
    {
     "name": "stdout",
     "output_type": "stream",
     "text": [
      "Accuracy: 57.35%\n"
     ]
    }
   ],
   "source": [
    "scores = model.evaluate(X_test, y_test, verbose=0)\n",
    "print(\"Accuracy: %.2f%%\" % (scores[1]*100))"
   ]
  },
  {
   "cell_type": "code",
   "execution_count": 14,
   "metadata": {},
   "outputs": [],
   "source": [
    "%%script false\n",
    "1, 59.02\n",
    "2, 52.25\n",
    "3, 53.01\n",
    "5, 56.59\n",
    "10, 57.60\n",
    "20, 54.84"
   ]
  },
  {
   "cell_type": "code",
   "execution_count": 15,
   "metadata": {
    "scrolled": true
   },
   "outputs": [
    {
     "data": {
      "text/plain": [
       "[<matplotlib.lines.Line2D at 0x7efd46ba55d0>]"
      ]
     },
     "execution_count": 15,
     "metadata": {},
     "output_type": "execute_result"
    },
    {
     "data": {
      "image/png": "[encoded data removed]",
      "text/plain": [
       "<Figure size 432x288 with 1 Axes>"
      ]
     },
     "metadata": {
      "needs_background": "light"
     },
     "output_type": "display_data"
    }
   ],
   "source": [
    "x=[1,2,3,5,10,20]\n",
    "y=[59.02, 52.25, 53.01, 56.59, 57.60, 54.84]\n",
    "plt.plot(x,y, '--bo')"
   ]
  },
  {
   "cell_type": "code",
   "execution_count": null,
   "metadata": {},
   "outputs": [],
   "source": []
  }
 ],
 "metadata": {
  "kernelspec": {
   "display_name": "Python 2",
   "language": "python",
   "name": "python2"
  },
  "language_info": {
   "codemirror_mode": {
    "name": "ipython",
    "version": 2
   },
   "file_extension": ".py",
   "mimetype": "text/x-python",
   "name": "python",
   "nbconvert_exporter": "python",
   "pygments_lexer": "ipython2",
   "version": "2.7.12"
  }
 },
 "nbformat": 4,
 "nbformat_minor": 2
}

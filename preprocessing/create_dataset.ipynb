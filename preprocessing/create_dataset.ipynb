{
 "cells": [
  {
   "cell_type": "code",
   "execution_count": 7,
   "metadata": {},
   "outputs": [],
   "source": [
    "# Import libraries\n",
    "import pandas as pd\n",
    "import numpy as np"
   ]
  },
  {
   "cell_type": "code",
   "execution_count": 8,
   "metadata": {
    "scrolled": true
   },
   "outputs": [],
   "source": [
    "df = pd.read_excel('../data/HumanRawDataSampleTbyTGrp1Gp2AndFinalChoiceComp&Est.xlsx', sheet_name=[0,1])"
   ]
  },
  {
   "cell_type": "code",
   "execution_count": 9,
   "metadata": {},
   "outputs": [
    {
     "data": {
      "text/html": [
       "<div>\n",
       "<style scoped>\n",
       "    .dataframe tbody tr th:only-of-type {\n",
       "        vertical-align: middle;\n",
       "    }\n",
       "\n",
       "    .dataframe tbody tr th {\n",
       "        vertical-align: top;\n",
       "    }\n",
       "\n",
       "    .dataframe thead th {\n",
       "        text-align: right;\n",
       "    }\n",
       "</style>\n",
       "<table border=\"1\" class=\"dataframe\">\n",
       "  <thead>\n",
       "    <tr style=\"text-align: right;\">\n",
       "      <th></th>\n",
       "      <th>ID</th>\n",
       "      <th>Order</th>\n",
       "      <th>Trial</th>\n",
       "      <th>RiskySampleChoice</th>\n",
       "      <th>Payoff</th>\n",
       "      <th>Group</th>\n",
       "      <th>CorrProb</th>\n",
       "      <th>set</th>\n",
       "      <th>IDCorrProbSet</th>\n",
       "      <th>Risky Final Choice</th>\n",
       "    </tr>\n",
       "  </thead>\n",
       "  <tbody>\n",
       "    <tr>\n",
       "      <th>0</th>\n",
       "      <td>1</td>\n",
       "      <td>2</td>\n",
       "      <td>1</td>\n",
       "      <td>0</td>\n",
       "      <td>-21.4</td>\n",
       "      <td>1</td>\n",
       "      <td>1</td>\n",
       "      <td>Comp</td>\n",
       "      <td>11Comp</td>\n",
       "      <td>0</td>\n",
       "    </tr>\n",
       "    <tr>\n",
       "      <th>1</th>\n",
       "      <td>1</td>\n",
       "      <td>2</td>\n",
       "      <td>2</td>\n",
       "      <td>1</td>\n",
       "      <td>-22.8</td>\n",
       "      <td>1</td>\n",
       "      <td>1</td>\n",
       "      <td>Comp</td>\n",
       "      <td>11Comp</td>\n",
       "      <td>0</td>\n",
       "    </tr>\n",
       "    <tr>\n",
       "      <th>2</th>\n",
       "      <td>1</td>\n",
       "      <td>2</td>\n",
       "      <td>3</td>\n",
       "      <td>0</td>\n",
       "      <td>-21.4</td>\n",
       "      <td>1</td>\n",
       "      <td>1</td>\n",
       "      <td>Comp</td>\n",
       "      <td>11Comp</td>\n",
       "      <td>0</td>\n",
       "    </tr>\n",
       "    <tr>\n",
       "      <th>3</th>\n",
       "      <td>1</td>\n",
       "      <td>2</td>\n",
       "      <td>4</td>\n",
       "      <td>0</td>\n",
       "      <td>-21.4</td>\n",
       "      <td>1</td>\n",
       "      <td>1</td>\n",
       "      <td>Comp</td>\n",
       "      <td>11Comp</td>\n",
       "      <td>0</td>\n",
       "    </tr>\n",
       "    <tr>\n",
       "      <th>4</th>\n",
       "      <td>1</td>\n",
       "      <td>2</td>\n",
       "      <td>5</td>\n",
       "      <td>0</td>\n",
       "      <td>-21.4</td>\n",
       "      <td>1</td>\n",
       "      <td>1</td>\n",
       "      <td>Comp</td>\n",
       "      <td>11Comp</td>\n",
       "      <td>0</td>\n",
       "    </tr>\n",
       "  </tbody>\n",
       "</table>\n",
       "</div>"
      ],
      "text/plain": [
       "   ID  Order  Trial  RiskySampleChoice  Payoff  Group  CorrProb   set  \\\n",
       "0   1      2      1                  0   -21.4      1         1  Comp   \n",
       "1   1      2      2                  1   -22.8      1         1  Comp   \n",
       "2   1      2      3                  0   -21.4      1         1  Comp   \n",
       "3   1      2      4                  0   -21.4      1         1  Comp   \n",
       "4   1      2      5                  0   -21.4      1         1  Comp   \n",
       "\n",
       "  IDCorrProbSet  Risky Final Choice  \n",
       "0        11Comp                   0  \n",
       "1        11Comp                   0  \n",
       "2        11Comp                   0  \n",
       "3        11Comp                   0  \n",
       "4        11Comp                   0  "
      ]
     },
     "execution_count": 9,
     "metadata": {},
     "output_type": "execute_result"
    }
   ],
   "source": [
    "df_est, df_comp = df[0], df[1]\n",
    "df_comp.head()"
   ]
  },
  {
   "cell_type": "code",
   "execution_count": 10,
   "metadata": {},
   "outputs": [
    {
     "data": {
      "text/plain": [
       "[1, -1.0, 1, -1.0, 1, -1.0, 2, -0.9, 2, -0.9, 2, -0.9, 2, -4.2, 2, -0.9, 1]"
      ]
     },
     "execution_count": 10,
     "metadata": {},
     "output_type": "execute_result"
    }
   ],
   "source": [
    "# processing\n",
    "data = df_es\n",
    "prev = data['Order'][0]\n",
    "final_data = []\n",
    "choices = []\n",
    "#outcomes = []\n",
    "f_choice = 0 \n",
    "for (order,choice,payoff,finalchoice) in zip(data['Order'],data['RiskySampleChoice'],data['Payoff'],data['Risky Final Choice']):\n",
    "    if(order == prev):\n",
    "        choices.append(choice+1)\n",
    "        choices.append(payoff)\n",
    "        #outcomes.append(payoff)\n",
    "        prev = order\n",
    "        f_choice = finalchoice+1\n",
    "        continue\n",
    "    #final_data.append(choices+outcomes+[f_choice])\n",
    "    final_data.append(choices+[f_choice])\n",
    "    choices = []\n",
    "    #outcomes = []\n",
    "    choices.append(choice+1)\n",
    "    #outcomes.append(payoff)\n",
    "    choices.append(payoff)\n",
    "    f_choice = finalchoice+1\n",
    "    prev=order\n",
    "#final_data.append(choices+outcomes+[f_choice])\n",
    "final_data.append(choices+[f_choice])\n",
    "final_data[1]"
   ]
  },
  {
   "cell_type": "code",
   "execution_count": 11,
   "metadata": {},
   "outputs": [
    {
     "data": {
      "text/plain": [
       "(1170, 433)"
      ]
     },
     "execution_count": 11,
     "metadata": {},
     "output_type": "execute_result"
    }
   ],
   "source": [
    "sample_size = max([len(entry) for entry in final_data])\n",
    "data_size = len(final_data)\n",
    "data_size,sample_size"
   ]
  },
  {
   "cell_type": "code",
   "execution_count": 12,
   "metadata": {},
   "outputs": [
    {
     "data": {
      "text/plain": [
       "array([1, -0.3, 2, -0.3, 1, -0.3, 0, 0, 0, 0, 0, 0, 0, 0, 0, 0, 0, 0, 0,\n",
       "       0, 0, 0, 0, 0, 0, 0, 0, 0, 0, 0, 0, 0, 0, 0, 0, 0, 0, 0, 0, 0, 0,\n",
       "       0, 0, 0, 0, 0, 0, 0, 0, 0, 0, 0, 0, 0, 0, 0, 0, 0, 0, 0, 0, 0, 0,\n",
       "       0, 0, 0, 0, 0, 0, 0, 0, 0, 0, 0, 0, 0, 0, 0, 0, 0, 0, 0, 0, 0, 0,\n",
       "       0, 0, 0, 0, 0, 0, 0, 0, 0, 0, 0, 0, 0, 0, 0, 0, 0, 0, 0, 0, 0, 0,\n",
       "       0, 0, 0, 0, 0, 0, 0, 0, 0, 0, 0, 0, 0, 0, 0, 0, 0, 0, 0, 0, 0, 0,\n",
       "       0, 0, 0, 0, 0, 0, 0, 0, 0, 0, 0, 0, 0, 0, 0, 0, 0, 0, 0, 0, 0, 0,\n",
       "       0, 0, 0, 0, 0, 0, 0, 0, 0, 0, 0, 0, 0, 0, 0, 0, 0, 0, 0, 0, 0, 0,\n",
       "       0, 0, 0, 0, 0, 0, 0, 0, 0, 0, 0, 0, 0, 0, 0, 0, 0, 0, 0, 0, 0, 0,\n",
       "       0, 0, 0, 0, 0, 0, 0, 0, 0, 0, 0, 0, 0, 0, 0, 0, 0, 0, 0, 0, 0, 0,\n",
       "       0, 0, 0, 0, 0, 0, 0, 0, 0, 0, 0, 0, 0, 0, 0, 0, 0, 0, 0, 0, 0, 0,\n",
       "       0, 0, 0, 0, 0, 0, 0, 0, 0, 0, 0, 0, 0, 0, 0, 0, 0, 0, 0, 0, 0, 0,\n",
       "       0, 0, 0, 0, 0, 0, 0, 0, 0, 0, 0, 0, 0, 0, 0, 0, 0, 0, 0, 0, 0, 0,\n",
       "       0, 0, 0, 0, 0, 0, 0, 0, 0, 0, 0, 0, 0, 0, 0, 0, 0, 0, 0, 0, 0, 0,\n",
       "       0, 0, 0, 0, 0, 0, 0, 0, 0, 0, 0, 0, 0, 0, 0, 0, 0, 0, 0, 0, 0, 0,\n",
       "       0, 0, 0, 0, 0, 0, 0, 0, 0, 0, 0, 0, 0, 0, 0, 0, 0, 0, 0, 0, 0, 0,\n",
       "       0, 0, 0, 0, 0, 0, 0, 0, 0, 0, 0, 0, 0, 0, 0, 0, 0, 0, 0, 0, 0, 0,\n",
       "       0, 0, 0, 0, 0, 0, 0, 0, 0, 0, 0, 0, 0, 0, 0, 0, 0, 0, 0, 0, 0, 0,\n",
       "       0, 0, 0, 0, 0, 0, 0, 0, 0, 0, 0, 0, 0, 0, 0, 0, 0, 0, 0, 0, 0, 0,\n",
       "       0, 0, 0, 0, 0, 0, 0, 0, 0, 0, 0, 0, 0, 0, 0, 0, 0, 1], dtype=object)"
      ]
     },
     "execution_count": 12,
     "metadata": {},
     "output_type": "execute_result"
    }
   ],
   "source": [
    "output_matrix = np.zeros((data_size,433), dtype=object)\n",
    "\n",
    "for idx,entry in enumerate(final_data):\n",
    "    for i in range(len(entry)-1):\n",
    "        output_matrix[idx][i] = entry[i]\n",
    "    output_matrix[idx][-1] = entry[-1]\n",
    "output_matrix[0]"
   ]
  },
  {
   "cell_type": "code",
   "execution_count": 13,
   "metadata": {},
   "outputs": [],
   "source": [
    "pd.DataFrame(output_matrix).to_csv(\"../data/estimation.csv\", index=False, header=False)"
   ]
  },
  {
   "cell_type": "code",
   "execution_count": null,
   "metadata": {},
   "outputs": [],
   "source": []
  }
 ],
 "metadata": {
  "kernelspec": {
   "display_name": "Python 3",
   "language": "python",
   "name": "python3"
  },
  "language_info": {
   "codemirror_mode": {
    "name": "ipython",
    "version": 3
   },
   "file_extension": ".py",
   "mimetype": "text/x-python",
   "name": "python",
   "nbconvert_exporter": "python",
   "pygments_lexer": "ipython3",
   "version": "3.6.6"
  }
 },
 "nbformat": 4,
 "nbformat_minor": 2
}

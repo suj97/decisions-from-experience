{
 "cells": [
  {
   "cell_type": "code",
   "execution_count": 40,
   "metadata": {},
   "outputs": [],
   "source": [
    "# Import libraries\n",
    "import pandas as pd\n",
    "import numpy as np"
   ]
  },
  {
   "cell_type": "code",
   "execution_count": 41,
   "metadata": {},
   "outputs": [],
   "source": [
    "df = pd.read_excel('../data/HumanRawDataSampleTbyTGrp1Gp2AndFinalChoiceComp&Est.xlsx', sheet_name=[0,1])"
   ]
  },
  {
   "cell_type": "code",
   "execution_count": 42,
   "metadata": {},
   "outputs": [
    {
     "data": {
      "text/html": [
       "<div>\n",
       "<style scoped>\n",
       "    .dataframe tbody tr th:only-of-type {\n",
       "        vertical-align: middle;\n",
       "    }\n",
       "\n",
       "    .dataframe tbody tr th {\n",
       "        vertical-align: top;\n",
       "    }\n",
       "\n",
       "    .dataframe thead th {\n",
       "        text-align: right;\n",
       "    }\n",
       "</style>\n",
       "<table border=\"1\" class=\"dataframe\">\n",
       "  <thead>\n",
       "    <tr style=\"text-align: right;\">\n",
       "      <th></th>\n",
       "      <th>ID</th>\n",
       "      <th>Order</th>\n",
       "      <th>Trial</th>\n",
       "      <th>RiskySampleChoice</th>\n",
       "      <th>Payoff</th>\n",
       "      <th>Group</th>\n",
       "      <th>CorrProb</th>\n",
       "      <th>set</th>\n",
       "      <th>IDCorrProbSet</th>\n",
       "      <th>Risky Final Choice</th>\n",
       "    </tr>\n",
       "  </thead>\n",
       "  <tbody>\n",
       "    <tr>\n",
       "      <th>0</th>\n",
       "      <td>1</td>\n",
       "      <td>19</td>\n",
       "      <td>1</td>\n",
       "      <td>0</td>\n",
       "      <td>-0.3</td>\n",
       "      <td>1</td>\n",
       "      <td>1</td>\n",
       "      <td>Est</td>\n",
       "      <td>11Est</td>\n",
       "      <td>0</td>\n",
       "    </tr>\n",
       "    <tr>\n",
       "      <th>1</th>\n",
       "      <td>1</td>\n",
       "      <td>19</td>\n",
       "      <td>2</td>\n",
       "      <td>1</td>\n",
       "      <td>-0.3</td>\n",
       "      <td>1</td>\n",
       "      <td>1</td>\n",
       "      <td>Est</td>\n",
       "      <td>11Est</td>\n",
       "      <td>0</td>\n",
       "    </tr>\n",
       "    <tr>\n",
       "      <th>2</th>\n",
       "      <td>1</td>\n",
       "      <td>19</td>\n",
       "      <td>3</td>\n",
       "      <td>0</td>\n",
       "      <td>-0.3</td>\n",
       "      <td>1</td>\n",
       "      <td>1</td>\n",
       "      <td>Est</td>\n",
       "      <td>11Est</td>\n",
       "      <td>0</td>\n",
       "    </tr>\n",
       "    <tr>\n",
       "      <th>3</th>\n",
       "      <td>1</td>\n",
       "      <td>12</td>\n",
       "      <td>1</td>\n",
       "      <td>0</td>\n",
       "      <td>-1.0</td>\n",
       "      <td>1</td>\n",
       "      <td>2</td>\n",
       "      <td>Est</td>\n",
       "      <td>12Est</td>\n",
       "      <td>0</td>\n",
       "    </tr>\n",
       "    <tr>\n",
       "      <th>4</th>\n",
       "      <td>1</td>\n",
       "      <td>12</td>\n",
       "      <td>2</td>\n",
       "      <td>0</td>\n",
       "      <td>-1.0</td>\n",
       "      <td>1</td>\n",
       "      <td>2</td>\n",
       "      <td>Est</td>\n",
       "      <td>12Est</td>\n",
       "      <td>0</td>\n",
       "    </tr>\n",
       "  </tbody>\n",
       "</table>\n",
       "</div>"
      ],
      "text/plain": [
       "   ID  Order  Trial  RiskySampleChoice  Payoff  Group  CorrProb  set  \\\n",
       "0   1     19      1                  0    -0.3      1         1  Est   \n",
       "1   1     19      2                  1    -0.3      1         1  Est   \n",
       "2   1     19      3                  0    -0.3      1         1  Est   \n",
       "3   1     12      1                  0    -1.0      1         2  Est   \n",
       "4   1     12      2                  0    -1.0      1         2  Est   \n",
       "\n",
       "  IDCorrProbSet  Risky Final Choice  \n",
       "0         11Est                   0  \n",
       "1         11Est                   0  \n",
       "2         11Est                   0  \n",
       "3         12Est                   0  \n",
       "4         12Est                   0  "
      ]
     },
     "execution_count": 42,
     "metadata": {},
     "output_type": "execute_result"
    }
   ],
   "source": [
    "df_est, df_comp = df[0], df[1]\n",
    "df_est.head()"
   ]
  },
  {
   "cell_type": "code",
   "execution_count": 43,
   "metadata": {},
   "outputs": [
    {
     "data": {
      "text/plain": [
       "[2,\n",
       " 0.7,\n",
       " 2,\n",
       " 4.4,\n",
       " 2,\n",
       " 0.7,\n",
       " 2,\n",
       " 0.7,\n",
       " 1,\n",
       " 1.1,\n",
       " 1,\n",
       " 1.1,\n",
       " 1,\n",
       " 1.1,\n",
       " 1,\n",
       " 1.1,\n",
       " 1,\n",
       " 1.1,\n",
       " 2,\n",
       " 0.7,\n",
       " 2,\n",
       " 4.4,\n",
       " 2,\n",
       " 0.7,\n",
       " 2,\n",
       " 0.7,\n",
       " 2,\n",
       " 0.7,\n",
       " 2,\n",
       " 4.4,\n",
       " 2,\n",
       " 0.7,\n",
       " 2]"
      ]
     },
     "execution_count": 43,
     "metadata": {},
     "output_type": "execute_result"
    }
   ],
   "source": [
    "# processing\n",
    "dataset='competition'\n",
    "if(dataset[0]=='e'):\n",
    "    data = df_est #set dataset\n",
    "else:\n",
    "    data = df_comp\n",
    "prev = data['Order'][0]\n",
    "final_data = []\n",
    "choices = []\n",
    "outcomes = []\n",
    "f_choice = 0 \n",
    "for (order,choice,payoff,finalchoice) in zip(data['Order'],data['RiskySampleChoice'],data['Payoff'],data['Risky Final Choice']):\n",
    "    if(order == prev):\n",
    "        choices.append(choice+1)\n",
    "#         outcomes.append(payoff)\n",
    "        choices.append(payoff)\n",
    "        prev = order\n",
    "        f_choice = finalchoice+1\n",
    "        continue\n",
    "    final_data.append(choices+[f_choice])\n",
    "    choices = []\n",
    "    outcomes = []\n",
    "    choices.append(choice+1)\n",
    "#     outcomes.append(payoff)\n",
    "    choices.append(payoff)\n",
    "    f_choice = finalchoice+1\n",
    "    prev=order\n",
    "final_data.append(choices+[f_choice])\n",
    "final_data[0]"
   ]
  },
  {
   "cell_type": "code",
   "execution_count": 44,
   "metadata": {},
   "outputs": [],
   "source": [
    "# pd.DataFrame(final_data).to_csv(\"../data/{}_without_outcomes_padding.csv\".format(dataset), index=False, header=False)"
   ]
  },
  {
   "cell_type": "code",
   "execution_count": 45,
   "metadata": {},
   "outputs": [],
   "source": [
    "import csv\n",
    "\n",
    "with open(\"../data/{}_without_padding.csv\".format(dataset), \"wb\") as f:\n",
    "    writer = csv.writer(f)\n",
    "    writer.writerows(final_data)"
   ]
  },
  {
   "cell_type": "code",
   "execution_count": null,
   "metadata": {},
   "outputs": [],
   "source": []
  }
 ],
 "metadata": {
  "kernelspec": {
   "display_name": "Python 3",
   "language": "python",
   "name": "python3"
  },
  "language_info": {
   "codemirror_mode": {
    "name": "ipython",
    "version": 3
   },
   "file_extension": ".py",
   "mimetype": "text/x-python",
   "name": "python",
   "nbconvert_exporter": "python",
   "pygments_lexer": "ipython3",
   "version": "3.6.6"
  }
 },
 "nbformat": 4,
 "nbformat_minor": 2
}

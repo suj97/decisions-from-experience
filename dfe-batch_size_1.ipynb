{
 "cells": [
  {
   "cell_type": "code",
   "execution_count": 5,
   "metadata": {},
   "outputs": [],
   "source": [
    "import numpy as np\n",
    "import pandas as pd\n",
    "from sklearn.cross_validation import train_test_split\n",
    "from keras.models import Sequential\n",
    "from keras.layers import Dense, Input, Dropout, LSTM, GRU, SimpleRNN, Embedding, Conv1D, MaxPooling1D, Masking\n",
    "from keras import optimizers,regularizers\n",
    "from sklearn.preprocessing import MinMaxScaler\n",
    "from keras.preprocessing.sequence import pad_sequences\n",
    "import matplotlib.pyplot as plt"
   ]
  },
  {
   "cell_type": "code",
   "execution_count": 6,
   "metadata": {},
   "outputs": [],
   "source": [
    "def parse_dataset(name):\n",
    "    infile = open(name, 'r')\n",
    "    lines = infile.readlines()\n",
    "    data = []\n",
    "    for line in lines:\n",
    "        data.append([float(x) for x in line.split(',')])\n",
    "    y = [x[-1] for x in data]\n",
    "    data = [x[:-1] for x in data]\n",
    "    return data, y"
   ]
  },
  {
   "cell_type": "code",
   "execution_count": 7,
   "metadata": {},
   "outputs": [],
   "source": [
    "n_steps=20\n",
    "X_train, y_train = parse_dataset('data/estimation_without_padding.csv')\n",
    "X_test, y_test = parse_dataset('data/competition_without_padding.csv')"
   ]
  },
  {
   "cell_type": "code",
   "execution_count": 8,
   "metadata": {},
   "outputs": [],
   "source": [
    "def reshape_data(data):\n",
    "    mat = [[] for _ in range(len(data))]\n",
    "    for j in range(len(data)):\n",
    "        row = data[j]\n",
    "        mylist=np.empty(len(row))\n",
    "        for i in range(0,len(row),2):\n",
    "            mylist[i]=row[i]\n",
    "            mylist[i+1]=row[i+1]\n",
    "        mylist = np.reshape(mylist, (mylist.shape[0]//2,2))\n",
    "        mat[j] = mylist\n",
    "    return mat"
   ]
  },
  {
   "cell_type": "code",
   "execution_count": 9,
   "metadata": {},
   "outputs": [],
   "source": [
    "# X_train = reshape_data(X_train)\n",
    "# X_test = reshape_data(X_test)\n",
    "maxlen = max(len(X_train), len(X_test))\n",
    "X_train = pad_sequences(X_train, padding='post', value=-100, dtype=float, maxlen=maxlen)\n",
    "X_test = pad_sequences(X_test, padding='post', value=-100, dtype=float, maxlen=maxlen)"
   ]
  },
  {
   "cell_type": "code",
   "execution_count": 10,
   "metadata": {},
   "outputs": [
    {
     "data": {
      "text/plain": [
       "array([   1. ,   -0.3,    2. , ..., -100. , -100. , -100. ])"
      ]
     },
     "execution_count": 10,
     "metadata": {},
     "output_type": "execute_result"
    }
   ],
   "source": [
    "X_train[0]"
   ]
  },
  {
   "cell_type": "code",
   "execution_count": 11,
   "metadata": {},
   "outputs": [],
   "source": [
    "X_train = np.reshape(X_train, (X_train.shape[0], X_train.shape[1]//2, 2))\n",
    "X_test = np.reshape(X_test, (X_test.shape[0], X_test.shape[1]//2, 2))"
   ]
  },
  {
   "cell_type": "code",
   "execution_count": 12,
   "metadata": {},
   "outputs": [
    {
     "data": {
      "text/plain": [
       "((1170, 599, 2), (1198, 599, 2), array([[   1. ,   -0.3],\n",
       "        [   2. ,   -0.3],\n",
       "        [   1. ,   -0.3],\n",
       "        ...,\n",
       "        [-100. , -100. ],\n",
       "        [-100. , -100. ],\n",
       "        [-100. , -100. ]]))"
      ]
     },
     "execution_count": 12,
     "metadata": {},
     "output_type": "execute_result"
    }
   ],
   "source": [
    "X_train.shape, X_test.shape, X_train[0]"
   ]
  },
  {
   "cell_type": "code",
   "execution_count": 13,
   "metadata": {},
   "outputs": [],
   "source": [
    "model = Sequential()\n",
    "model.add(Masking(mask_value=-100.0, input_shape=(None, 2)))\n",
    "model.add(LSTM(10, return_sequences=False, activation='relu', input_shape=(None, 2)))\n",
    "# model.add(Dropout(0.3))\n",
    "model.add(Dense(3, activation='softmax'))"
   ]
  },
  {
   "cell_type": "code",
   "execution_count": 14,
   "metadata": {},
   "outputs": [],
   "source": [
    "model.compile(loss='sparse_categorical_crossentropy', optimizer='adam', metrics=['accuracy'])"
   ]
  },
  {
   "cell_type": "code",
   "execution_count": 15,
   "metadata": {},
   "outputs": [
    {
     "name": "stdout",
     "output_type": "stream",
     "text": [
      "Train on 1170 samples, validate on 1198 samples\n",
      "Epoch 1/20\n",
      "1170/1170 [==============================] - 53s 46ms/step - loss: 1.5478 - acc: 0.3932 - val_loss: 1.0426 - val_acc: 0.4549\n",
      "Epoch 2/20\n",
      "1170/1170 [==============================] - 55s 47ms/step - loss: 0.9596 - acc: 0.4821 - val_loss: 0.9155 - val_acc: 0.5259\n",
      "Epoch 3/20\n",
      "1170/1170 [==============================] - 55s 47ms/step - loss: 0.8753 - acc: 0.5085 - val_loss: 0.8544 - val_acc: 0.5326\n",
      "Epoch 4/20\n",
      "1170/1170 [==============================] - 55s 47ms/step - loss: 0.8240 - acc: 0.5291 - val_loss: 0.8101 - val_acc: 0.5334\n",
      "Epoch 5/20\n",
      "1170/1170 [==============================] - 53s 45ms/step - loss: 0.7818 - acc: 0.5667 - val_loss: 0.7772 - val_acc: 0.5309\n",
      "Epoch 6/20\n",
      "1170/1170 [==============================] - 52s 44ms/step - loss: 0.7612 - acc: 0.5735 - val_loss: 0.7585 - val_acc: 0.5526\n",
      "Epoch 7/20\n",
      "1170/1170 [==============================] - 52s 44ms/step - loss: 0.7428 - acc: 0.5855 - val_loss: 0.7427 - val_acc: 0.5634\n",
      "Epoch 8/20\n",
      "1170/1170 [==============================] - 52s 44ms/step - loss: 0.7250 - acc: 0.5880 - val_loss: 0.7304 - val_acc: 0.5726\n",
      "Epoch 9/20\n",
      "1170/1170 [==============================] - 52s 44ms/step - loss: 0.7135 - acc: 0.5889 - val_loss: 0.7310 - val_acc: 0.5584\n",
      "Epoch 10/20\n",
      "1170/1170 [==============================] - 52s 45ms/step - loss: 0.7032 - acc: 0.5957 - val_loss: 0.7237 - val_acc: 0.5601\n",
      "Epoch 11/20\n",
      "1170/1170 [==============================] - 52s 44ms/step - loss: 0.6914 - acc: 0.6060 - val_loss: 0.7109 - val_acc: 0.5768\n",
      "Epoch 12/20\n",
      "1170/1170 [==============================] - 52s 44ms/step - loss: 0.6875 - acc: 0.6009 - val_loss: 0.7066 - val_acc: 0.5793\n",
      "Epoch 13/20\n",
      "1170/1170 [==============================] - 52s 45ms/step - loss: 0.6805 - acc: 0.6060 - val_loss: 0.7056 - val_acc: 0.5501\n",
      "Epoch 14/20\n",
      "1170/1170 [==============================] - 52s 45ms/step - loss: 0.6722 - acc: 0.6154 - val_loss: 0.6985 - val_acc: 0.5693\n",
      "Epoch 15/20\n",
      "1170/1170 [==============================] - 53s 45ms/step - loss: 0.6694 - acc: 0.6051 - val_loss: 0.6984 - val_acc: 0.5718\n",
      "Epoch 16/20\n",
      "1170/1170 [==============================] - 52s 44ms/step - loss: 0.6708 - acc: 0.6137 - val_loss: 0.6974 - val_acc: 0.5768\n",
      "Epoch 17/20\n",
      "1170/1170 [==============================] - 52s 45ms/step - loss: 0.6631 - acc: 0.6214 - val_loss: 0.6967 - val_acc: 0.5735\n",
      "Epoch 18/20\n",
      "1170/1170 [==============================] - 52s 44ms/step - loss: 0.6618 - acc: 0.6282 - val_loss: 0.6941 - val_acc: 0.5743\n",
      "Epoch 19/20\n",
      "1170/1170 [==============================] - 52s 44ms/step - loss: 0.6576 - acc: 0.6205 - val_loss: 0.6887 - val_acc: 0.5835\n",
      "Epoch 20/20\n",
      "1170/1170 [==============================] - 54s 46ms/step - loss: 0.6538 - acc: 0.6188 - val_loss: 0.6876 - val_acc: 0.5851\n"
     ]
    },
    {
     "data": {
      "text/plain": [
       "<keras.callbacks.History at 0x11516a978>"
      ]
     },
     "execution_count": 15,
     "metadata": {},
     "output_type": "execute_result"
    }
   ],
   "source": [
    "model.fit(X_train, y_train, validation_data=(X_test, y_test), epochs=20, batch_size=20)"
   ]
  },
  {
   "cell_type": "code",
   "execution_count": null,
   "metadata": {},
   "outputs": [],
   "source": [
    "# for seq, label in zip(X_train, y_train):\n",
    "#     model.fit(np.array([seq]), [label], batch_size=1)"
   ]
  },
  {
   "cell_type": "code",
   "execution_count": null,
   "metadata": {},
   "outputs": [],
   "source": []
  }
 ],
 "metadata": {
  "kernelspec": {
   "display_name": "Python 3",
   "language": "python",
   "name": "python3"
  },
  "language_info": {
   "codemirror_mode": {
    "name": "ipython",
    "version": 3
   },
   "file_extension": ".py",
   "mimetype": "text/x-python",
   "name": "python",
   "nbconvert_exporter": "python",
   "pygments_lexer": "ipython3",
   "version": "3.6.6"
  }
 },
 "nbformat": 4,
 "nbformat_minor": 2
}

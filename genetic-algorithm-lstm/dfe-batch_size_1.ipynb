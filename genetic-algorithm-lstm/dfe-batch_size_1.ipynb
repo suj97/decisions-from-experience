{
 "cells": [
  {
   "cell_type": "code",
   "execution_count": 1,
   "metadata": {},
   "outputs": [
    {
     "name": "stderr",
     "output_type": "stream",
     "text": [
      "/Users/sujay/miniconda3/envs/mtp/lib/python3.6/site-packages/sklearn/cross_validation.py:41: DeprecationWarning: This module was deprecated in version 0.18 in favor of the model_selection module into which all the refactored classes and functions are moved. Also note that the interface of the new CV iterators are different from that of this module. This module will be removed in 0.20.\n",
      "  \"This module will be removed in 0.20.\", DeprecationWarning)\n",
      "Using TensorFlow backend.\n"
     ]
    }
   ],
   "source": [
    "import numpy as np\n",
    "import pandas as pd\n",
    "from sklearn.cross_validation import train_test_split\n",
    "from keras.models import Sequential\n",
    "from keras.layers import Dense, Input, Dropout, LSTM, GRU, SimpleRNN, Embedding, Conv1D, MaxPooling1D, Masking\n",
    "from keras import optimizers,regularizers\n",
    "from sklearn.preprocessing import MinMaxScaler\n",
    "from keras.preprocessing.sequence import pad_sequences\n",
    "import matplotlib.pyplot as plt\n",
    "from keras.utils import plot_model"
   ]
  },
  {
   "cell_type": "code",
   "execution_count": 2,
   "metadata": {},
   "outputs": [],
   "source": [
    "def parse_dataset(name):\n",
    "    infile = open(name, 'r')\n",
    "    lines = infile.readlines()\n",
    "    data = []\n",
    "    for line in lines:\n",
    "        data.append([float(x) for x in line.split(',')])\n",
    "    y = [x[-1] for x in data]\n",
    "    data = [x[:-1] for x in data]\n",
    "    return data, y"
   ]
  },
  {
   "cell_type": "code",
   "execution_count": 3,
   "metadata": {},
   "outputs": [],
   "source": [
    "X_train, y_train = parse_dataset('data/estimation_without_padding.csv')\n",
    "X_test, y_test = parse_dataset('data/competition_without_padding.csv')"
   ]
  },
  {
   "cell_type": "code",
   "execution_count": 4,
   "metadata": {},
   "outputs": [],
   "source": [
    "def reshape_data(data):\n",
    "    mat = [[] for _ in range(len(data))]\n",
    "    for j in range(len(data)):\n",
    "        row = data[j]\n",
    "        mylist=np.empty(len(row))\n",
    "        for i in range(0,len(row),2):\n",
    "            mylist[i]=row[i]\n",
    "            mylist[i+1]=row[i+1]\n",
    "        mylist = np.reshape(mylist, (mylist.shape[0]//2,2))\n",
    "        mat[j] = mylist\n",
    "    return mat"
   ]
  },
  {
   "cell_type": "code",
   "execution_count": 5,
   "metadata": {},
   "outputs": [
    {
     "data": {
      "text/plain": [
       "(432, 266)"
      ]
     },
     "execution_count": 5,
     "metadata": {},
     "output_type": "execute_result"
    }
   ],
   "source": [
    "# X_train = reshape_data(X_train)\n",
    "# X_test = reshape_data(X_test)\n",
    "maxlen1 = max([len(x) for x in X_train])\n",
    "maxlen2 = max([len(x) for x in X_test])\n",
    "X_train = pad_sequences(X_train, padding='post', value=-100, dtype=float, maxlen=maxlen1)\n",
    "X_test = pad_sequences(X_test, padding='post', value=-100, dtype=float, maxlen=maxlen2)\n",
    "maxlen1, maxlen2"
   ]
  },
  {
   "cell_type": "code",
   "execution_count": 6,
   "metadata": {},
   "outputs": [],
   "source": [
    "X_train = np.reshape(X_train, (X_train.shape[0], X_train.shape[1]//2, 2))\n",
    "X_test = np.reshape(X_test, (X_test.shape[0], X_test.shape[1]//2, 2))"
   ]
  },
  {
   "cell_type": "code",
   "execution_count": 7,
   "metadata": {},
   "outputs": [
    {
     "data": {
      "text/plain": [
       "((1170, 216, 2), (1198, 133, 2), array([[   1. ,   -0.3],\n",
       "        [   2. ,   -0.3],\n",
       "        [   1. ,   -0.3],\n",
       "        [-100. , -100. ],\n",
       "        [-100. , -100. ],\n",
       "        [-100. , -100. ],\n",
       "        [-100. , -100. ],\n",
       "        [-100. , -100. ],\n",
       "        [-100. , -100. ],\n",
       "        [-100. , -100. ],\n",
       "        [-100. , -100. ],\n",
       "        [-100. , -100. ],\n",
       "        [-100. , -100. ],\n",
       "        [-100. , -100. ],\n",
       "        [-100. , -100. ],\n",
       "        [-100. , -100. ],\n",
       "        [-100. , -100. ],\n",
       "        [-100. , -100. ],\n",
       "        [-100. , -100. ],\n",
       "        [-100. , -100. ],\n",
       "        [-100. , -100. ],\n",
       "        [-100. , -100. ],\n",
       "        [-100. , -100. ],\n",
       "        [-100. , -100. ],\n",
       "        [-100. , -100. ],\n",
       "        [-100. , -100. ],\n",
       "        [-100. , -100. ],\n",
       "        [-100. , -100. ],\n",
       "        [-100. , -100. ],\n",
       "        [-100. , -100. ],\n",
       "        [-100. , -100. ],\n",
       "        [-100. , -100. ],\n",
       "        [-100. , -100. ],\n",
       "        [-100. , -100. ],\n",
       "        [-100. , -100. ],\n",
       "        [-100. , -100. ],\n",
       "        [-100. , -100. ],\n",
       "        [-100. , -100. ],\n",
       "        [-100. , -100. ],\n",
       "        [-100. , -100. ],\n",
       "        [-100. , -100. ],\n",
       "        [-100. , -100. ],\n",
       "        [-100. , -100. ],\n",
       "        [-100. , -100. ],\n",
       "        [-100. , -100. ],\n",
       "        [-100. , -100. ],\n",
       "        [-100. , -100. ],\n",
       "        [-100. , -100. ],\n",
       "        [-100. , -100. ],\n",
       "        [-100. , -100. ],\n",
       "        [-100. , -100. ],\n",
       "        [-100. , -100. ],\n",
       "        [-100. , -100. ],\n",
       "        [-100. , -100. ],\n",
       "        [-100. , -100. ],\n",
       "        [-100. , -100. ],\n",
       "        [-100. , -100. ],\n",
       "        [-100. , -100. ],\n",
       "        [-100. , -100. ],\n",
       "        [-100. , -100. ],\n",
       "        [-100. , -100. ],\n",
       "        [-100. , -100. ],\n",
       "        [-100. , -100. ],\n",
       "        [-100. , -100. ],\n",
       "        [-100. , -100. ],\n",
       "        [-100. , -100. ],\n",
       "        [-100. , -100. ],\n",
       "        [-100. , -100. ],\n",
       "        [-100. , -100. ],\n",
       "        [-100. , -100. ],\n",
       "        [-100. , -100. ],\n",
       "        [-100. , -100. ],\n",
       "        [-100. , -100. ],\n",
       "        [-100. , -100. ],\n",
       "        [-100. , -100. ],\n",
       "        [-100. , -100. ],\n",
       "        [-100. , -100. ],\n",
       "        [-100. , -100. ],\n",
       "        [-100. , -100. ],\n",
       "        [-100. , -100. ],\n",
       "        [-100. , -100. ],\n",
       "        [-100. , -100. ],\n",
       "        [-100. , -100. ],\n",
       "        [-100. , -100. ],\n",
       "        [-100. , -100. ],\n",
       "        [-100. , -100. ],\n",
       "        [-100. , -100. ],\n",
       "        [-100. , -100. ],\n",
       "        [-100. , -100. ],\n",
       "        [-100. , -100. ],\n",
       "        [-100. , -100. ],\n",
       "        [-100. , -100. ],\n",
       "        [-100. , -100. ],\n",
       "        [-100. , -100. ],\n",
       "        [-100. , -100. ],\n",
       "        [-100. , -100. ],\n",
       "        [-100. , -100. ],\n",
       "        [-100. , -100. ],\n",
       "        [-100. , -100. ],\n",
       "        [-100. , -100. ],\n",
       "        [-100. , -100. ],\n",
       "        [-100. , -100. ],\n",
       "        [-100. , -100. ],\n",
       "        [-100. , -100. ],\n",
       "        [-100. , -100. ],\n",
       "        [-100. , -100. ],\n",
       "        [-100. , -100. ],\n",
       "        [-100. , -100. ],\n",
       "        [-100. , -100. ],\n",
       "        [-100. , -100. ],\n",
       "        [-100. , -100. ],\n",
       "        [-100. , -100. ],\n",
       "        [-100. , -100. ],\n",
       "        [-100. , -100. ],\n",
       "        [-100. , -100. ],\n",
       "        [-100. , -100. ],\n",
       "        [-100. , -100. ],\n",
       "        [-100. , -100. ],\n",
       "        [-100. , -100. ],\n",
       "        [-100. , -100. ],\n",
       "        [-100. , -100. ],\n",
       "        [-100. , -100. ],\n",
       "        [-100. , -100. ],\n",
       "        [-100. , -100. ],\n",
       "        [-100. , -100. ],\n",
       "        [-100. , -100. ],\n",
       "        [-100. , -100. ],\n",
       "        [-100. , -100. ],\n",
       "        [-100. , -100. ],\n",
       "        [-100. , -100. ],\n",
       "        [-100. , -100. ],\n",
       "        [-100. , -100. ],\n",
       "        [-100. , -100. ],\n",
       "        [-100. , -100. ],\n",
       "        [-100. , -100. ],\n",
       "        [-100. , -100. ],\n",
       "        [-100. , -100. ],\n",
       "        [-100. , -100. ],\n",
       "        [-100. , -100. ],\n",
       "        [-100. , -100. ],\n",
       "        [-100. , -100. ],\n",
       "        [-100. , -100. ],\n",
       "        [-100. , -100. ],\n",
       "        [-100. , -100. ],\n",
       "        [-100. , -100. ],\n",
       "        [-100. , -100. ],\n",
       "        [-100. , -100. ],\n",
       "        [-100. , -100. ],\n",
       "        [-100. , -100. ],\n",
       "        [-100. , -100. ],\n",
       "        [-100. , -100. ],\n",
       "        [-100. , -100. ],\n",
       "        [-100. , -100. ],\n",
       "        [-100. , -100. ],\n",
       "        [-100. , -100. ],\n",
       "        [-100. , -100. ],\n",
       "        [-100. , -100. ],\n",
       "        [-100. , -100. ],\n",
       "        [-100. , -100. ],\n",
       "        [-100. , -100. ],\n",
       "        [-100. , -100. ],\n",
       "        [-100. , -100. ],\n",
       "        [-100. , -100. ],\n",
       "        [-100. , -100. ],\n",
       "        [-100. , -100. ],\n",
       "        [-100. , -100. ],\n",
       "        [-100. , -100. ],\n",
       "        [-100. , -100. ],\n",
       "        [-100. , -100. ],\n",
       "        [-100. , -100. ],\n",
       "        [-100. , -100. ],\n",
       "        [-100. , -100. ],\n",
       "        [-100. , -100. ],\n",
       "        [-100. , -100. ],\n",
       "        [-100. , -100. ],\n",
       "        [-100. , -100. ],\n",
       "        [-100. , -100. ],\n",
       "        [-100. , -100. ],\n",
       "        [-100. , -100. ],\n",
       "        [-100. , -100. ],\n",
       "        [-100. , -100. ],\n",
       "        [-100. , -100. ],\n",
       "        [-100. , -100. ],\n",
       "        [-100. , -100. ],\n",
       "        [-100. , -100. ],\n",
       "        [-100. , -100. ],\n",
       "        [-100. , -100. ],\n",
       "        [-100. , -100. ],\n",
       "        [-100. , -100. ],\n",
       "        [-100. , -100. ],\n",
       "        [-100. , -100. ],\n",
       "        [-100. , -100. ],\n",
       "        [-100. , -100. ],\n",
       "        [-100. , -100. ],\n",
       "        [-100. , -100. ],\n",
       "        [-100. , -100. ],\n",
       "        [-100. , -100. ],\n",
       "        [-100. , -100. ],\n",
       "        [-100. , -100. ],\n",
       "        [-100. , -100. ],\n",
       "        [-100. , -100. ],\n",
       "        [-100. , -100. ],\n",
       "        [-100. , -100. ],\n",
       "        [-100. , -100. ],\n",
       "        [-100. , -100. ],\n",
       "        [-100. , -100. ],\n",
       "        [-100. , -100. ],\n",
       "        [-100. , -100. ],\n",
       "        [-100. , -100. ],\n",
       "        [-100. , -100. ],\n",
       "        [-100. , -100. ],\n",
       "        [-100. , -100. ],\n",
       "        [-100. , -100. ],\n",
       "        [-100. , -100. ],\n",
       "        [-100. , -100. ],\n",
       "        [-100. , -100. ]]))"
      ]
     },
     "execution_count": 7,
     "metadata": {},
     "output_type": "execute_result"
    }
   ],
   "source": [
    "X_train.shape, X_test.shape, X_train[0]"
   ]
  },
  {
   "cell_type": "code",
   "execution_count": 8,
   "metadata": {},
   "outputs": [],
   "source": [
    "model = Sequential()\n",
    "model.add(Masking(mask_value=-100.0, input_shape=(None, 2)))\n",
    "model.add(LSTM(10, return_sequences=True, activation='relu', input_shape=(None, 2)))\n",
    "# model.add(Dropout(0.3))\n",
    "model.add(LSTM(10, return_sequences=False, activation='relu'))\n",
    "model.add(Dense(3, activation='softmax'))"
   ]
  },
  {
   "cell_type": "code",
   "execution_count": 9,
   "metadata": {},
   "outputs": [],
   "source": [
    "model.compile(loss='sparse_categorical_crossentropy', optimizer='adam', metrics=['accuracy'])"
   ]
  },
  {
   "cell_type": "code",
   "execution_count": 11,
   "metadata": {
    "scrolled": true
   },
   "outputs": [
    {
     "ename": "ImportError",
     "evalue": "Failed to import `pydot`. Please install `pydot`. For example with `pip install pydot`.",
     "output_type": "error",
     "traceback": [
      "\u001b[0;31m---------------------------------------------------------------------------\u001b[0m",
      "\u001b[0;31mImportError\u001b[0m                               Traceback (most recent call last)",
      "\u001b[0;32m<ipython-input-11-b950b8cba428>\u001b[0m in \u001b[0;36m<module>\u001b[0;34m()\u001b[0m\n\u001b[0;32m----> 1\u001b[0;31m \u001b[0mplot_model\u001b[0m\u001b[0;34m(\u001b[0m\u001b[0mmodel\u001b[0m\u001b[0;34m,\u001b[0m \u001b[0mto_file\u001b[0m\u001b[0;34m=\u001b[0m\u001b[0;34m'model.png'\u001b[0m\u001b[0;34m)\u001b[0m\u001b[0;34m\u001b[0m\u001b[0m\n\u001b[0m",
      "\u001b[0;32m~/miniconda3/envs/mtp/lib/python3.6/site-packages/keras/utils/vis_utils.py\u001b[0m in \u001b[0;36mplot_model\u001b[0;34m(model, to_file, show_shapes, show_layer_names, rankdir)\u001b[0m\n\u001b[1;32m    130\u001b[0m             \u001b[0;34m'LR'\u001b[0m \u001b[0mcreates\u001b[0m \u001b[0ma\u001b[0m \u001b[0mhorizontal\u001b[0m \u001b[0mplot\u001b[0m\u001b[0;34m.\u001b[0m\u001b[0;34m\u001b[0m\u001b[0m\n\u001b[1;32m    131\u001b[0m     \"\"\"\n\u001b[0;32m--> 132\u001b[0;31m     \u001b[0mdot\u001b[0m \u001b[0;34m=\u001b[0m \u001b[0mmodel_to_dot\u001b[0m\u001b[0;34m(\u001b[0m\u001b[0mmodel\u001b[0m\u001b[0;34m,\u001b[0m \u001b[0mshow_shapes\u001b[0m\u001b[0;34m,\u001b[0m \u001b[0mshow_layer_names\u001b[0m\u001b[0;34m,\u001b[0m \u001b[0mrankdir\u001b[0m\u001b[0;34m)\u001b[0m\u001b[0;34m\u001b[0m\u001b[0m\n\u001b[0m\u001b[1;32m    133\u001b[0m     \u001b[0m_\u001b[0m\u001b[0;34m,\u001b[0m \u001b[0mextension\u001b[0m \u001b[0;34m=\u001b[0m \u001b[0mos\u001b[0m\u001b[0;34m.\u001b[0m\u001b[0mpath\u001b[0m\u001b[0;34m.\u001b[0m\u001b[0msplitext\u001b[0m\u001b[0;34m(\u001b[0m\u001b[0mto_file\u001b[0m\u001b[0;34m)\u001b[0m\u001b[0;34m\u001b[0m\u001b[0m\n\u001b[1;32m    134\u001b[0m     \u001b[0;32mif\u001b[0m \u001b[0;32mnot\u001b[0m \u001b[0mextension\u001b[0m\u001b[0;34m:\u001b[0m\u001b[0;34m\u001b[0m\u001b[0m\n",
      "\u001b[0;32m~/miniconda3/envs/mtp/lib/python3.6/site-packages/keras/utils/vis_utils.py\u001b[0m in \u001b[0;36mmodel_to_dot\u001b[0;34m(model, show_shapes, show_layer_names, rankdir)\u001b[0m\n\u001b[1;32m     53\u001b[0m     \u001b[0;32mfrom\u001b[0m \u001b[0;34m.\u001b[0m\u001b[0;34m.\u001b[0m\u001b[0mmodels\u001b[0m \u001b[0;32mimport\u001b[0m \u001b[0mSequential\u001b[0m\u001b[0;34m\u001b[0m\u001b[0m\n\u001b[1;32m     54\u001b[0m \u001b[0;34m\u001b[0m\u001b[0m\n\u001b[0;32m---> 55\u001b[0;31m     \u001b[0m_check_pydot\u001b[0m\u001b[0;34m(\u001b[0m\u001b[0;34m)\u001b[0m\u001b[0;34m\u001b[0m\u001b[0m\n\u001b[0m\u001b[1;32m     56\u001b[0m     \u001b[0mdot\u001b[0m \u001b[0;34m=\u001b[0m \u001b[0mpydot\u001b[0m\u001b[0;34m.\u001b[0m\u001b[0mDot\u001b[0m\u001b[0;34m(\u001b[0m\u001b[0;34m)\u001b[0m\u001b[0;34m\u001b[0m\u001b[0m\n\u001b[1;32m     57\u001b[0m     \u001b[0mdot\u001b[0m\u001b[0;34m.\u001b[0m\u001b[0mset\u001b[0m\u001b[0;34m(\u001b[0m\u001b[0;34m'rankdir'\u001b[0m\u001b[0;34m,\u001b[0m \u001b[0mrankdir\u001b[0m\u001b[0;34m)\u001b[0m\u001b[0;34m\u001b[0m\u001b[0m\n",
      "\u001b[0;32m~/miniconda3/envs/mtp/lib/python3.6/site-packages/keras/utils/vis_utils.py\u001b[0m in \u001b[0;36m_check_pydot\u001b[0;34m()\u001b[0m\n\u001b[1;32m     18\u001b[0m     \u001b[0;32mif\u001b[0m \u001b[0mpydot\u001b[0m \u001b[0;32mis\u001b[0m \u001b[0;32mNone\u001b[0m\u001b[0;34m:\u001b[0m\u001b[0;34m\u001b[0m\u001b[0m\n\u001b[1;32m     19\u001b[0m         raise ImportError(\n\u001b[0;32m---> 20\u001b[0;31m             \u001b[0;34m'Failed to import `pydot`. '\u001b[0m\u001b[0;34m\u001b[0m\u001b[0m\n\u001b[0m\u001b[1;32m     21\u001b[0m             \u001b[0;34m'Please install `pydot`. '\u001b[0m\u001b[0;34m\u001b[0m\u001b[0m\n\u001b[1;32m     22\u001b[0m             'For example with `pip install pydot`.')\n",
      "\u001b[0;31mImportError\u001b[0m: Failed to import `pydot`. Please install `pydot`. For example with `pip install pydot`."
     ]
    }
   ],
   "source": [
    "plot_model(model, to_file='model.png')"
   ]
  },
  {
   "cell_type": "code",
   "execution_count": 10,
   "metadata": {},
   "outputs": [
    {
     "name": "stdout",
     "output_type": "stream",
     "text": [
      "Train on 1170 samples, validate on 1198 samples\n",
      "Epoch 1/20\n",
      "1170/1170 [==============================] - 21s 18ms/step - loss: 1.4297 - acc: 0.3239 - val_loss: 1.4178 - val_acc: 0.3773\n",
      "Epoch 2/20\n",
      "1170/1170 [==============================] - 21s 18ms/step - loss: 1.1253 - acc: 0.3829 - val_loss: 1.1006 - val_acc: 0.4157\n",
      "Epoch 3/20\n",
      "1170/1170 [==============================] - 19s 16ms/step - loss: 1.0118 - acc: 0.4179 - val_loss: 0.9660 - val_acc: 0.4391\n",
      "Epoch 4/20\n",
      "1170/1170 [==============================] - 20s 17ms/step - loss: 0.9204 - acc: 0.4718 - val_loss: 0.8891 - val_acc: 0.4950\n",
      "Epoch 5/20\n",
      "1170/1170 [==============================] - 18s 15ms/step - loss: 0.8655 - acc: 0.5188 - val_loss: 0.8466 - val_acc: 0.5167\n",
      "Epoch 6/20\n",
      "1170/1170 [==============================] - 18s 15ms/step - loss: 0.8276 - acc: 0.5368 - val_loss: 0.8199 - val_acc: 0.5125\n",
      "Epoch 7/20\n",
      "1170/1170 [==============================] - 20s 17ms/step - loss: 0.7952 - acc: 0.5299 - val_loss: 0.8011 - val_acc: 0.5067\n",
      "Epoch 8/20\n",
      "1170/1170 [==============================] - 18s 15ms/step - loss: 0.7665 - acc: 0.5513 - val_loss: 0.7941 - val_acc: 0.5100\n",
      "Epoch 9/20\n",
      "1170/1170 [==============================] - 18s 15ms/step - loss: 0.7414 - acc: 0.5692 - val_loss: 0.8032 - val_acc: 0.5092\n",
      "Epoch 10/20\n",
      "1170/1170 [==============================] - 17s 15ms/step - loss: 0.7166 - acc: 0.5795 - val_loss: 0.7718 - val_acc: 0.5209\n",
      "Epoch 11/20\n",
      "1170/1170 [==============================] - 17s 15ms/step - loss: 0.6998 - acc: 0.5932 - val_loss: 0.7654 - val_acc: 0.5267\n",
      "Epoch 12/20\n",
      "1170/1170 [==============================] - 18s 15ms/step - loss: 0.6910 - acc: 0.6017 - val_loss: 0.7567 - val_acc: 0.5326\n",
      "Epoch 13/20\n",
      "1170/1170 [==============================] - 18s 16ms/step - loss: 0.6835 - acc: 0.6051 - val_loss: 0.7572 - val_acc: 0.5384\n",
      "Epoch 14/20\n",
      "1170/1170 [==============================] - 18s 15ms/step - loss: 0.6784 - acc: 0.6103 - val_loss: 0.7502 - val_acc: 0.5392\n",
      "Epoch 15/20\n",
      "1170/1170 [==============================] - 18s 15ms/step - loss: 0.6730 - acc: 0.6103 - val_loss: 0.7453 - val_acc: 0.5392\n",
      "Epoch 16/20\n",
      "1170/1170 [==============================] - 18s 15ms/step - loss: 0.6689 - acc: 0.6137 - val_loss: 0.7419 - val_acc: 0.5426\n",
      "Epoch 17/20\n",
      "1170/1170 [==============================] - 24s 21ms/step - loss: 0.6657 - acc: 0.6154 - val_loss: 0.7405 - val_acc: 0.5434\n",
      "Epoch 18/20\n",
      "1170/1170 [==============================] - 19s 16ms/step - loss: 0.6609 - acc: 0.6179 - val_loss: 0.7401 - val_acc: 0.5442\n",
      "Epoch 19/20\n",
      "1170/1170 [==============================] - 20s 17ms/step - loss: 0.6571 - acc: 0.6162 - val_loss: 0.7296 - val_acc: 0.5476\n",
      "Epoch 20/20\n",
      "1170/1170 [==============================] - 19s 17ms/step - loss: 0.6542 - acc: 0.6188 - val_loss: 0.7252 - val_acc: 0.5459\n"
     ]
    },
    {
     "data": {
      "text/plain": [
       "<keras.callbacks.History at 0x1a21b1e898>"
      ]
     },
     "execution_count": 10,
     "metadata": {},
     "output_type": "execute_result"
    }
   ],
   "source": [
    "model.fit(X_train, y_train, validation_data=(X_test, y_test), epochs=20, batch_size=20)"
   ]
  },
  {
   "cell_type": "code",
   "execution_count": null,
   "metadata": {},
   "outputs": [],
   "source": [
    "# for seq, label in zip(X_train, y_train):\n",
    "#     model.fit(np.array([seq]), [label], batch_size=1)"
   ]
  },
  {
   "cell_type": "code",
   "execution_count": null,
   "metadata": {},
   "outputs": [],
   "source": []
  }
 ],
 "metadata": {
  "kernelspec": {
   "display_name": "Python 3",
   "language": "python",
   "name": "python3"
  },
  "language_info": {
   "codemirror_mode": {
    "name": "ipython",
    "version": 3
   },
   "file_extension": ".py",
   "mimetype": "text/x-python",
   "name": "python",
   "nbconvert_exporter": "python",
   "pygments_lexer": "ipython3",
   "version": "3.6.6"
  }
 },
 "nbformat": 4,
 "nbformat_minor": 2
}
